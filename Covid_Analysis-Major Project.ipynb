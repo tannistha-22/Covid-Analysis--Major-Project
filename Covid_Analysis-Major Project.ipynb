{
  "nbformat": 4,
  "nbformat_minor": 0,
  "metadata": {
    "colab": {
      "name": "Covid Analysis.ipynb",
      "provenance": [],
      "collapsed_sections": [],
      "authorship_tag": "ABX9TyMxbH/iLHT1+KubA+mFiRkM",
      "include_colab_link": true
    },
    "kernelspec": {
      "name": "python3",
      "display_name": "Python 3"
    }
  },
  "cells": [
    {
      "cell_type": "markdown",
      "metadata": {
        "id": "view-in-github",
        "colab_type": "text"
      },
      "source": [
        "<a href=\"https://colab.research.google.com/github/tannistha-22/Covid-Analysis--Major-Project/blob/main/Covid_Analysis-Major%20Project.ipynb\" target=\"_parent\"><img src=\"https://colab.research.google.com/assets/colab-badge.svg\" alt=\"Open In Colab\"/></a>"
      ]
    },
    {
      "cell_type": "markdown",
      "metadata": {
        "id": "r3d74JJY17y8"
      },
      "source": [
        "# **Covid Analysis**"
      ]
    },
    {
      "cell_type": "code",
      "metadata": {
        "id": "on5ZxsIi1-jr"
      },
      "source": [
        "import pandas as pd"
      ],
      "execution_count": 2,
      "outputs": []
    },
    {
      "cell_type": "code",
      "metadata": {
        "id": "dK9wj6Bd6gih"
      },
      "source": [
        "df= pd.read_csv('https://raw.githubusercontent.com/datasets/covid-19/master/data/time-series-19-covid-combined.csv')\n"
      ],
      "execution_count": 3,
      "outputs": []
    },
    {
      "cell_type": "code",
      "metadata": {
        "id": "div1EiRw7JXt",
        "outputId": "bb62fe83-64fb-45ed-bcf5-8f35efafef8b",
        "colab": {
          "base_uri": "https://localhost:8080/",
          "height": 195
        }
      },
      "source": [
        "df.head()"
      ],
      "execution_count": 4,
      "outputs": [
        {
          "output_type": "execute_result",
          "data": {
            "text/html": [
              "<div>\n",
              "<style scoped>\n",
              "    .dataframe tbody tr th:only-of-type {\n",
              "        vertical-align: middle;\n",
              "    }\n",
              "\n",
              "    .dataframe tbody tr th {\n",
              "        vertical-align: top;\n",
              "    }\n",
              "\n",
              "    .dataframe thead th {\n",
              "        text-align: right;\n",
              "    }\n",
              "</style>\n",
              "<table border=\"1\" class=\"dataframe\">\n",
              "  <thead>\n",
              "    <tr style=\"text-align: right;\">\n",
              "      <th></th>\n",
              "      <th>Date</th>\n",
              "      <th>Country/Region</th>\n",
              "      <th>Province/State</th>\n",
              "      <th>Lat</th>\n",
              "      <th>Long</th>\n",
              "      <th>Confirmed</th>\n",
              "      <th>Recovered</th>\n",
              "      <th>Deaths</th>\n",
              "    </tr>\n",
              "  </thead>\n",
              "  <tbody>\n",
              "    <tr>\n",
              "      <th>0</th>\n",
              "      <td>2020-01-22</td>\n",
              "      <td>Afghanistan</td>\n",
              "      <td>NaN</td>\n",
              "      <td>33.93911</td>\n",
              "      <td>67.709953</td>\n",
              "      <td>0</td>\n",
              "      <td>0.0</td>\n",
              "      <td>0</td>\n",
              "    </tr>\n",
              "    <tr>\n",
              "      <th>1</th>\n",
              "      <td>2020-01-23</td>\n",
              "      <td>Afghanistan</td>\n",
              "      <td>NaN</td>\n",
              "      <td>33.93911</td>\n",
              "      <td>67.709953</td>\n",
              "      <td>0</td>\n",
              "      <td>0.0</td>\n",
              "      <td>0</td>\n",
              "    </tr>\n",
              "    <tr>\n",
              "      <th>2</th>\n",
              "      <td>2020-01-24</td>\n",
              "      <td>Afghanistan</td>\n",
              "      <td>NaN</td>\n",
              "      <td>33.93911</td>\n",
              "      <td>67.709953</td>\n",
              "      <td>0</td>\n",
              "      <td>0.0</td>\n",
              "      <td>0</td>\n",
              "    </tr>\n",
              "    <tr>\n",
              "      <th>3</th>\n",
              "      <td>2020-01-25</td>\n",
              "      <td>Afghanistan</td>\n",
              "      <td>NaN</td>\n",
              "      <td>33.93911</td>\n",
              "      <td>67.709953</td>\n",
              "      <td>0</td>\n",
              "      <td>0.0</td>\n",
              "      <td>0</td>\n",
              "    </tr>\n",
              "    <tr>\n",
              "      <th>4</th>\n",
              "      <td>2020-01-26</td>\n",
              "      <td>Afghanistan</td>\n",
              "      <td>NaN</td>\n",
              "      <td>33.93911</td>\n",
              "      <td>67.709953</td>\n",
              "      <td>0</td>\n",
              "      <td>0.0</td>\n",
              "      <td>0</td>\n",
              "    </tr>\n",
              "  </tbody>\n",
              "</table>\n",
              "</div>"
            ],
            "text/plain": [
              "         Date Country/Region Province/State  ...  Confirmed  Recovered  Deaths\n",
              "0  2020-01-22    Afghanistan            NaN  ...          0        0.0       0\n",
              "1  2020-01-23    Afghanistan            NaN  ...          0        0.0       0\n",
              "2  2020-01-24    Afghanistan            NaN  ...          0        0.0       0\n",
              "3  2020-01-25    Afghanistan            NaN  ...          0        0.0       0\n",
              "4  2020-01-26    Afghanistan            NaN  ...          0        0.0       0\n",
              "\n",
              "[5 rows x 8 columns]"
            ]
          },
          "metadata": {
            "tags": []
          },
          "execution_count": 4
        }
      ]
    },
    {
      "cell_type": "code",
      "metadata": {
        "id": "rQMDc3rvzgHC",
        "outputId": "67b10edb-a086-402c-c188-a795a1826018",
        "colab": {
          "base_uri": "https://localhost:8080/",
          "height": 34
        }
      },
      "source": [
        "print(f\"Data available for {df['Date'].unique().size} days\")"
      ],
      "execution_count": 5,
      "outputs": [
        {
          "output_type": "stream",
          "text": [
            "Data available for 270 days\n"
          ],
          "name": "stdout"
        }
      ]
    },
    {
      "cell_type": "code",
      "metadata": {
        "id": "H7ooaPGczgOh",
        "outputId": "12477c9e-7917-40be-f4b0-aabc7e2e1b03",
        "colab": {
          "base_uri": "https://localhost:8080/",
          "height": 195
        }
      },
      "source": [
        "\n",
        "df_clean =df.drop([\"Province/State\"], axis=1)\n",
        "df_clean.head()"
      ],
      "execution_count": 6,
      "outputs": [
        {
          "output_type": "execute_result",
          "data": {
            "text/html": [
              "<div>\n",
              "<style scoped>\n",
              "    .dataframe tbody tr th:only-of-type {\n",
              "        vertical-align: middle;\n",
              "    }\n",
              "\n",
              "    .dataframe tbody tr th {\n",
              "        vertical-align: top;\n",
              "    }\n",
              "\n",
              "    .dataframe thead th {\n",
              "        text-align: right;\n",
              "    }\n",
              "</style>\n",
              "<table border=\"1\" class=\"dataframe\">\n",
              "  <thead>\n",
              "    <tr style=\"text-align: right;\">\n",
              "      <th></th>\n",
              "      <th>Date</th>\n",
              "      <th>Country/Region</th>\n",
              "      <th>Lat</th>\n",
              "      <th>Long</th>\n",
              "      <th>Confirmed</th>\n",
              "      <th>Recovered</th>\n",
              "      <th>Deaths</th>\n",
              "    </tr>\n",
              "  </thead>\n",
              "  <tbody>\n",
              "    <tr>\n",
              "      <th>0</th>\n",
              "      <td>2020-01-22</td>\n",
              "      <td>Afghanistan</td>\n",
              "      <td>33.93911</td>\n",
              "      <td>67.709953</td>\n",
              "      <td>0</td>\n",
              "      <td>0.0</td>\n",
              "      <td>0</td>\n",
              "    </tr>\n",
              "    <tr>\n",
              "      <th>1</th>\n",
              "      <td>2020-01-23</td>\n",
              "      <td>Afghanistan</td>\n",
              "      <td>33.93911</td>\n",
              "      <td>67.709953</td>\n",
              "      <td>0</td>\n",
              "      <td>0.0</td>\n",
              "      <td>0</td>\n",
              "    </tr>\n",
              "    <tr>\n",
              "      <th>2</th>\n",
              "      <td>2020-01-24</td>\n",
              "      <td>Afghanistan</td>\n",
              "      <td>33.93911</td>\n",
              "      <td>67.709953</td>\n",
              "      <td>0</td>\n",
              "      <td>0.0</td>\n",
              "      <td>0</td>\n",
              "    </tr>\n",
              "    <tr>\n",
              "      <th>3</th>\n",
              "      <td>2020-01-25</td>\n",
              "      <td>Afghanistan</td>\n",
              "      <td>33.93911</td>\n",
              "      <td>67.709953</td>\n",
              "      <td>0</td>\n",
              "      <td>0.0</td>\n",
              "      <td>0</td>\n",
              "    </tr>\n",
              "    <tr>\n",
              "      <th>4</th>\n",
              "      <td>2020-01-26</td>\n",
              "      <td>Afghanistan</td>\n",
              "      <td>33.93911</td>\n",
              "      <td>67.709953</td>\n",
              "      <td>0</td>\n",
              "      <td>0.0</td>\n",
              "      <td>0</td>\n",
              "    </tr>\n",
              "  </tbody>\n",
              "</table>\n",
              "</div>"
            ],
            "text/plain": [
              "         Date Country/Region       Lat       Long  Confirmed  Recovered  Deaths\n",
              "0  2020-01-22    Afghanistan  33.93911  67.709953          0        0.0       0\n",
              "1  2020-01-23    Afghanistan  33.93911  67.709953          0        0.0       0\n",
              "2  2020-01-24    Afghanistan  33.93911  67.709953          0        0.0       0\n",
              "3  2020-01-25    Afghanistan  33.93911  67.709953          0        0.0       0\n",
              "4  2020-01-26    Afghanistan  33.93911  67.709953          0        0.0       0"
            ]
          },
          "metadata": {
            "tags": []
          },
          "execution_count": 6
        }
      ]
    },
    {
      "cell_type": "code",
      "metadata": {
        "id": "gCf7BrL6zgZq",
        "outputId": "6235eea2-221b-4d4d-cde1-db9c58279599",
        "colab": {
          "base_uri": "https://localhost:8080/",
          "height": 284
        }
      },
      "source": [
        "df_clean.describe()"
      ],
      "execution_count": 7,
      "outputs": [
        {
          "output_type": "execute_result",
          "data": {
            "text/html": [
              "<div>\n",
              "<style scoped>\n",
              "    .dataframe tbody tr th:only-of-type {\n",
              "        vertical-align: middle;\n",
              "    }\n",
              "\n",
              "    .dataframe tbody tr th {\n",
              "        vertical-align: top;\n",
              "    }\n",
              "\n",
              "    .dataframe thead th {\n",
              "        text-align: right;\n",
              "    }\n",
              "</style>\n",
              "<table border=\"1\" class=\"dataframe\">\n",
              "  <thead>\n",
              "    <tr style=\"text-align: right;\">\n",
              "      <th></th>\n",
              "      <th>Lat</th>\n",
              "      <th>Long</th>\n",
              "      <th>Confirmed</th>\n",
              "      <th>Recovered</th>\n",
              "      <th>Deaths</th>\n",
              "    </tr>\n",
              "  </thead>\n",
              "  <tbody>\n",
              "    <tr>\n",
              "      <th>count</th>\n",
              "      <td>72090.000000</td>\n",
              "      <td>72090.000000</td>\n",
              "      <td>7.209000e+04</td>\n",
              "      <td>6.831000e+04</td>\n",
              "      <td>72090.000000</td>\n",
              "    </tr>\n",
              "    <tr>\n",
              "      <th>mean</th>\n",
              "      <td>20.961559</td>\n",
              "      <td>23.343773</td>\n",
              "      <td>4.284619e+04</td>\n",
              "      <td>2.760750e+04</td>\n",
              "      <td>1610.020807</td>\n",
              "    </tr>\n",
              "    <tr>\n",
              "      <th>std</th>\n",
              "      <td>24.882193</td>\n",
              "      <td>70.429778</td>\n",
              "      <td>3.257632e+05</td>\n",
              "      <td>2.119790e+05</td>\n",
              "      <td>10272.269230</td>\n",
              "    </tr>\n",
              "    <tr>\n",
              "      <th>min</th>\n",
              "      <td>-51.796300</td>\n",
              "      <td>-135.000000</td>\n",
              "      <td>0.000000e+00</td>\n",
              "      <td>0.000000e+00</td>\n",
              "      <td>0.000000</td>\n",
              "    </tr>\n",
              "    <tr>\n",
              "      <th>25%</th>\n",
              "      <td>6.428055</td>\n",
              "      <td>-15.310100</td>\n",
              "      <td>1.600000e+01</td>\n",
              "      <td>3.000000e+00</td>\n",
              "      <td>0.000000</td>\n",
              "    </tr>\n",
              "    <tr>\n",
              "      <th>50%</th>\n",
              "      <td>22.300000</td>\n",
              "      <td>20.939400</td>\n",
              "      <td>4.400000e+02</td>\n",
              "      <td>2.020000e+02</td>\n",
              "      <td>6.000000</td>\n",
              "    </tr>\n",
              "    <tr>\n",
              "      <th>75%</th>\n",
              "      <td>41.153300</td>\n",
              "      <td>80.771797</td>\n",
              "      <td>4.688750e+03</td>\n",
              "      <td>2.150000e+03</td>\n",
              "      <td>89.000000</td>\n",
              "    </tr>\n",
              "    <tr>\n",
              "      <th>max</th>\n",
              "      <td>71.706900</td>\n",
              "      <td>178.065000</td>\n",
              "      <td>8.106384e+06</td>\n",
              "      <td>6.524595e+06</td>\n",
              "      <td>219286.000000</td>\n",
              "    </tr>\n",
              "  </tbody>\n",
              "</table>\n",
              "</div>"
            ],
            "text/plain": [
              "                Lat          Long     Confirmed     Recovered         Deaths\n",
              "count  72090.000000  72090.000000  7.209000e+04  6.831000e+04   72090.000000\n",
              "mean      20.961559     23.343773  4.284619e+04  2.760750e+04    1610.020807\n",
              "std       24.882193     70.429778  3.257632e+05  2.119790e+05   10272.269230\n",
              "min      -51.796300   -135.000000  0.000000e+00  0.000000e+00       0.000000\n",
              "25%        6.428055    -15.310100  1.600000e+01  3.000000e+00       0.000000\n",
              "50%       22.300000     20.939400  4.400000e+02  2.020000e+02       6.000000\n",
              "75%       41.153300     80.771797  4.688750e+03  2.150000e+03      89.000000\n",
              "max       71.706900    178.065000  8.106384e+06  6.524595e+06  219286.000000"
            ]
          },
          "metadata": {
            "tags": []
          },
          "execution_count": 7
        }
      ]
    },
    {
      "cell_type": "code",
      "metadata": {
        "id": "-nanMTgWzgc_",
        "outputId": "7192e4f9-4aae-45a9-9b6e-d5b96cd882c7",
        "colab": {
          "base_uri": "https://localhost:8080/",
          "height": 166
        }
      },
      "source": [
        "df_clean.describe(include=\"O\")"
      ],
      "execution_count": 8,
      "outputs": [
        {
          "output_type": "execute_result",
          "data": {
            "text/html": [
              "<div>\n",
              "<style scoped>\n",
              "    .dataframe tbody tr th:only-of-type {\n",
              "        vertical-align: middle;\n",
              "    }\n",
              "\n",
              "    .dataframe tbody tr th {\n",
              "        vertical-align: top;\n",
              "    }\n",
              "\n",
              "    .dataframe thead th {\n",
              "        text-align: right;\n",
              "    }\n",
              "</style>\n",
              "<table border=\"1\" class=\"dataframe\">\n",
              "  <thead>\n",
              "    <tr style=\"text-align: right;\">\n",
              "      <th></th>\n",
              "      <th>Date</th>\n",
              "      <th>Country/Region</th>\n",
              "    </tr>\n",
              "  </thead>\n",
              "  <tbody>\n",
              "    <tr>\n",
              "      <th>count</th>\n",
              "      <td>72090</td>\n",
              "      <td>72090</td>\n",
              "    </tr>\n",
              "    <tr>\n",
              "      <th>unique</th>\n",
              "      <td>270</td>\n",
              "      <td>189</td>\n",
              "    </tr>\n",
              "    <tr>\n",
              "      <th>top</th>\n",
              "      <td>2020-04-24</td>\n",
              "      <td>China</td>\n",
              "    </tr>\n",
              "    <tr>\n",
              "      <th>freq</th>\n",
              "      <td>267</td>\n",
              "      <td>8910</td>\n",
              "    </tr>\n",
              "  </tbody>\n",
              "</table>\n",
              "</div>"
            ],
            "text/plain": [
              "              Date Country/Region\n",
              "count        72090          72090\n",
              "unique         270            189\n",
              "top     2020-04-24          China\n",
              "freq           267           8910"
            ]
          },
          "metadata": {
            "tags": []
          },
          "execution_count": 8
        }
      ]
    },
    {
      "cell_type": "code",
      "metadata": {
        "id": "R3ZUxg2kzggU",
        "outputId": "e306b479-3a1c-4aa6-9629-22e3dc9e94c5",
        "colab": {
          "base_uri": "https://localhost:8080/",
          "height": 252
        }
      },
      "source": [
        "df_clean.info()"
      ],
      "execution_count": 9,
      "outputs": [
        {
          "output_type": "stream",
          "text": [
            "<class 'pandas.core.frame.DataFrame'>\n",
            "RangeIndex: 72090 entries, 0 to 72089\n",
            "Data columns (total 7 columns):\n",
            " #   Column          Non-Null Count  Dtype  \n",
            "---  ------          --------------  -----  \n",
            " 0   Date            72090 non-null  object \n",
            " 1   Country/Region  72090 non-null  object \n",
            " 2   Lat             72090 non-null  float64\n",
            " 3   Long            72090 non-null  float64\n",
            " 4   Confirmed       72090 non-null  int64  \n",
            " 5   Recovered       68310 non-null  float64\n",
            " 6   Deaths          72090 non-null  int64  \n",
            "dtypes: float64(3), int64(2), object(2)\n",
            "memory usage: 3.9+ MB\n"
          ],
          "name": "stdout"
        }
      ]
    },
    {
      "cell_type": "code",
      "metadata": {
        "id": "QFfXDcpcsBVU",
        "outputId": "39b245db-876a-4aee-9ec2-c27735e58102",
        "colab": {
          "base_uri": "https://localhost:8080/",
          "height": 252
        }
      },
      "source": [
        "df_clean['Date'] = pd.to_datetime(df_clean['Date'])\n",
        "df_clean.info()\n"
      ],
      "execution_count": 10,
      "outputs": [
        {
          "output_type": "stream",
          "text": [
            "<class 'pandas.core.frame.DataFrame'>\n",
            "RangeIndex: 72090 entries, 0 to 72089\n",
            "Data columns (total 7 columns):\n",
            " #   Column          Non-Null Count  Dtype         \n",
            "---  ------          --------------  -----         \n",
            " 0   Date            72090 non-null  datetime64[ns]\n",
            " 1   Country/Region  72090 non-null  object        \n",
            " 2   Lat             72090 non-null  float64       \n",
            " 3   Long            72090 non-null  float64       \n",
            " 4   Confirmed       72090 non-null  int64         \n",
            " 5   Recovered       68310 non-null  float64       \n",
            " 6   Deaths          72090 non-null  int64         \n",
            "dtypes: datetime64[ns](1), float64(3), int64(2), object(1)\n",
            "memory usage: 3.9+ MB\n"
          ],
          "name": "stdout"
        }
      ]
    },
    {
      "cell_type": "code",
      "metadata": {
        "id": "FB1XLEclze74",
        "outputId": "5085e4f0-1989-42f9-9257-13d70fe76df7",
        "colab": {
          "base_uri": "https://localhost:8080/",
          "height": 402
        }
      },
      "source": [
        "df_clean"
      ],
      "execution_count": 11,
      "outputs": [
        {
          "output_type": "execute_result",
          "data": {
            "text/html": [
              "<div>\n",
              "<style scoped>\n",
              "    .dataframe tbody tr th:only-of-type {\n",
              "        vertical-align: middle;\n",
              "    }\n",
              "\n",
              "    .dataframe tbody tr th {\n",
              "        vertical-align: top;\n",
              "    }\n",
              "\n",
              "    .dataframe thead th {\n",
              "        text-align: right;\n",
              "    }\n",
              "</style>\n",
              "<table border=\"1\" class=\"dataframe\">\n",
              "  <thead>\n",
              "    <tr style=\"text-align: right;\">\n",
              "      <th></th>\n",
              "      <th>Date</th>\n",
              "      <th>Country/Region</th>\n",
              "      <th>Lat</th>\n",
              "      <th>Long</th>\n",
              "      <th>Confirmed</th>\n",
              "      <th>Recovered</th>\n",
              "      <th>Deaths</th>\n",
              "    </tr>\n",
              "  </thead>\n",
              "  <tbody>\n",
              "    <tr>\n",
              "      <th>0</th>\n",
              "      <td>2020-01-22</td>\n",
              "      <td>Afghanistan</td>\n",
              "      <td>33.939110</td>\n",
              "      <td>67.709953</td>\n",
              "      <td>0</td>\n",
              "      <td>0.0</td>\n",
              "      <td>0</td>\n",
              "    </tr>\n",
              "    <tr>\n",
              "      <th>1</th>\n",
              "      <td>2020-01-23</td>\n",
              "      <td>Afghanistan</td>\n",
              "      <td>33.939110</td>\n",
              "      <td>67.709953</td>\n",
              "      <td>0</td>\n",
              "      <td>0.0</td>\n",
              "      <td>0</td>\n",
              "    </tr>\n",
              "    <tr>\n",
              "      <th>2</th>\n",
              "      <td>2020-01-24</td>\n",
              "      <td>Afghanistan</td>\n",
              "      <td>33.939110</td>\n",
              "      <td>67.709953</td>\n",
              "      <td>0</td>\n",
              "      <td>0.0</td>\n",
              "      <td>0</td>\n",
              "    </tr>\n",
              "    <tr>\n",
              "      <th>3</th>\n",
              "      <td>2020-01-25</td>\n",
              "      <td>Afghanistan</td>\n",
              "      <td>33.939110</td>\n",
              "      <td>67.709953</td>\n",
              "      <td>0</td>\n",
              "      <td>0.0</td>\n",
              "      <td>0</td>\n",
              "    </tr>\n",
              "    <tr>\n",
              "      <th>4</th>\n",
              "      <td>2020-01-26</td>\n",
              "      <td>Afghanistan</td>\n",
              "      <td>33.939110</td>\n",
              "      <td>67.709953</td>\n",
              "      <td>0</td>\n",
              "      <td>0.0</td>\n",
              "      <td>0</td>\n",
              "    </tr>\n",
              "    <tr>\n",
              "      <th>...</th>\n",
              "      <td>...</td>\n",
              "      <td>...</td>\n",
              "      <td>...</td>\n",
              "      <td>...</td>\n",
              "      <td>...</td>\n",
              "      <td>...</td>\n",
              "      <td>...</td>\n",
              "    </tr>\n",
              "    <tr>\n",
              "      <th>72085</th>\n",
              "      <td>2020-10-13</td>\n",
              "      <td>Zimbabwe</td>\n",
              "      <td>-19.015438</td>\n",
              "      <td>29.154857</td>\n",
              "      <td>8036</td>\n",
              "      <td>7632.0</td>\n",
              "      <td>230</td>\n",
              "    </tr>\n",
              "    <tr>\n",
              "      <th>72086</th>\n",
              "      <td>2020-10-14</td>\n",
              "      <td>Zimbabwe</td>\n",
              "      <td>-19.015438</td>\n",
              "      <td>29.154857</td>\n",
              "      <td>8055</td>\n",
              "      <td>7640.0</td>\n",
              "      <td>231</td>\n",
              "    </tr>\n",
              "    <tr>\n",
              "      <th>72087</th>\n",
              "      <td>2020-10-15</td>\n",
              "      <td>Zimbabwe</td>\n",
              "      <td>-19.015438</td>\n",
              "      <td>29.154857</td>\n",
              "      <td>8075</td>\n",
              "      <td>7669.0</td>\n",
              "      <td>231</td>\n",
              "    </tr>\n",
              "    <tr>\n",
              "      <th>72088</th>\n",
              "      <td>2020-10-16</td>\n",
              "      <td>Zimbabwe</td>\n",
              "      <td>-19.015438</td>\n",
              "      <td>29.154857</td>\n",
              "      <td>8099</td>\n",
              "      <td>7673.0</td>\n",
              "      <td>231</td>\n",
              "    </tr>\n",
              "    <tr>\n",
              "      <th>72089</th>\n",
              "      <td>2020-10-17</td>\n",
              "      <td>Zimbabwe</td>\n",
              "      <td>-19.015438</td>\n",
              "      <td>29.154857</td>\n",
              "      <td>8110</td>\n",
              "      <td>7673.0</td>\n",
              "      <td>231</td>\n",
              "    </tr>\n",
              "  </tbody>\n",
              "</table>\n",
              "<p>72090 rows × 7 columns</p>\n",
              "</div>"
            ],
            "text/plain": [
              "            Date Country/Region        Lat  ...  Confirmed  Recovered  Deaths\n",
              "0     2020-01-22    Afghanistan  33.939110  ...          0        0.0       0\n",
              "1     2020-01-23    Afghanistan  33.939110  ...          0        0.0       0\n",
              "2     2020-01-24    Afghanistan  33.939110  ...          0        0.0       0\n",
              "3     2020-01-25    Afghanistan  33.939110  ...          0        0.0       0\n",
              "4     2020-01-26    Afghanistan  33.939110  ...          0        0.0       0\n",
              "...          ...            ...        ...  ...        ...        ...     ...\n",
              "72085 2020-10-13       Zimbabwe -19.015438  ...       8036     7632.0     230\n",
              "72086 2020-10-14       Zimbabwe -19.015438  ...       8055     7640.0     231\n",
              "72087 2020-10-15       Zimbabwe -19.015438  ...       8075     7669.0     231\n",
              "72088 2020-10-16       Zimbabwe -19.015438  ...       8099     7673.0     231\n",
              "72089 2020-10-17       Zimbabwe -19.015438  ...       8110     7673.0     231\n",
              "\n",
              "[72090 rows x 7 columns]"
            ]
          },
          "metadata": {
            "tags": []
          },
          "execution_count": 11
        }
      ]
    },
    {
      "cell_type": "code",
      "metadata": {
        "id": "LciVZ0_O1OV_"
      },
      "source": [
        "df_clean=df_clean.sort_values(by='Date')"
      ],
      "execution_count": 12,
      "outputs": []
    },
    {
      "cell_type": "code",
      "metadata": {
        "id": "hoaVKuH-1OnF",
        "outputId": "4d3f4f37-7047-4adc-ae37-138b3a194600",
        "colab": {
          "base_uri": "https://localhost:8080/",
          "height": 787
        }
      },
      "source": [
        "df_clean[30:55]"
      ],
      "execution_count": 13,
      "outputs": [
        {
          "output_type": "execute_result",
          "data": {
            "text/html": [
              "<div>\n",
              "<style scoped>\n",
              "    .dataframe tbody tr th:only-of-type {\n",
              "        vertical-align: middle;\n",
              "    }\n",
              "\n",
              "    .dataframe tbody tr th {\n",
              "        vertical-align: top;\n",
              "    }\n",
              "\n",
              "    .dataframe thead th {\n",
              "        text-align: right;\n",
              "    }\n",
              "</style>\n",
              "<table border=\"1\" class=\"dataframe\">\n",
              "  <thead>\n",
              "    <tr style=\"text-align: right;\">\n",
              "      <th></th>\n",
              "      <th>Date</th>\n",
              "      <th>Country/Region</th>\n",
              "      <th>Lat</th>\n",
              "      <th>Long</th>\n",
              "      <th>Confirmed</th>\n",
              "      <th>Recovered</th>\n",
              "      <th>Deaths</th>\n",
              "    </tr>\n",
              "  </thead>\n",
              "  <tbody>\n",
              "    <tr>\n",
              "      <th>58590</th>\n",
              "      <td>2020-01-22</td>\n",
              "      <td>Serbia</td>\n",
              "      <td>44.016500</td>\n",
              "      <td>21.005900</td>\n",
              "      <td>0</td>\n",
              "      <td>0.0</td>\n",
              "      <td>0</td>\n",
              "    </tr>\n",
              "    <tr>\n",
              "      <th>62640</th>\n",
              "      <td>2020-01-22</td>\n",
              "      <td>Switzerland</td>\n",
              "      <td>46.818200</td>\n",
              "      <td>8.227500</td>\n",
              "      <td>0</td>\n",
              "      <td>0.0</td>\n",
              "      <td>0</td>\n",
              "    </tr>\n",
              "    <tr>\n",
              "      <th>13500</th>\n",
              "      <td>2020-01-22</td>\n",
              "      <td>Canada</td>\n",
              "      <td>52.939900</td>\n",
              "      <td>-73.549100</td>\n",
              "      <td>0</td>\n",
              "      <td>NaN</td>\n",
              "      <td>0</td>\n",
              "    </tr>\n",
              "    <tr>\n",
              "      <th>13770</th>\n",
              "      <td>2020-01-22</td>\n",
              "      <td>Canada</td>\n",
              "      <td>52.939900</td>\n",
              "      <td>-106.450900</td>\n",
              "      <td>0</td>\n",
              "      <td>NaN</td>\n",
              "      <td>0</td>\n",
              "    </tr>\n",
              "    <tr>\n",
              "      <th>54270</th>\n",
              "      <td>2020-01-22</td>\n",
              "      <td>Paraguay</td>\n",
              "      <td>-23.442500</td>\n",
              "      <td>-58.443800</td>\n",
              "      <td>0</td>\n",
              "      <td>0.0</td>\n",
              "      <td>0</td>\n",
              "    </tr>\n",
              "    <tr>\n",
              "      <th>17550</th>\n",
              "      <td>2020-01-22</td>\n",
              "      <td>China</td>\n",
              "      <td>39.549000</td>\n",
              "      <td>116.130600</td>\n",
              "      <td>1</td>\n",
              "      <td>0.0</td>\n",
              "      <td>0</td>\n",
              "    </tr>\n",
              "    <tr>\n",
              "      <th>54540</th>\n",
              "      <td>2020-01-22</td>\n",
              "      <td>Peru</td>\n",
              "      <td>-9.190000</td>\n",
              "      <td>-75.015200</td>\n",
              "      <td>0</td>\n",
              "      <td>0.0</td>\n",
              "      <td>0</td>\n",
              "    </tr>\n",
              "    <tr>\n",
              "      <th>17280</th>\n",
              "      <td>2020-01-22</td>\n",
              "      <td>China</td>\n",
              "      <td>19.195900</td>\n",
              "      <td>109.745300</td>\n",
              "      <td>4</td>\n",
              "      <td>0.0</td>\n",
              "      <td>0</td>\n",
              "    </tr>\n",
              "    <tr>\n",
              "      <th>54810</th>\n",
              "      <td>2020-01-22</td>\n",
              "      <td>Philippines</td>\n",
              "      <td>12.879721</td>\n",
              "      <td>121.774017</td>\n",
              "      <td>0</td>\n",
              "      <td>0.0</td>\n",
              "      <td>0</td>\n",
              "    </tr>\n",
              "    <tr>\n",
              "      <th>17010</th>\n",
              "      <td>2020-01-22</td>\n",
              "      <td>China</td>\n",
              "      <td>26.815400</td>\n",
              "      <td>106.874800</td>\n",
              "      <td>1</td>\n",
              "      <td>0.0</td>\n",
              "      <td>0</td>\n",
              "    </tr>\n",
              "    <tr>\n",
              "      <th>55080</th>\n",
              "      <td>2020-01-22</td>\n",
              "      <td>Poland</td>\n",
              "      <td>51.919400</td>\n",
              "      <td>19.145100</td>\n",
              "      <td>0</td>\n",
              "      <td>0.0</td>\n",
              "      <td>0</td>\n",
              "    </tr>\n",
              "    <tr>\n",
              "      <th>16740</th>\n",
              "      <td>2020-01-22</td>\n",
              "      <td>China</td>\n",
              "      <td>23.829800</td>\n",
              "      <td>108.788100</td>\n",
              "      <td>2</td>\n",
              "      <td>0.0</td>\n",
              "      <td>0</td>\n",
              "    </tr>\n",
              "    <tr>\n",
              "      <th>55350</th>\n",
              "      <td>2020-01-22</td>\n",
              "      <td>Portugal</td>\n",
              "      <td>39.399900</td>\n",
              "      <td>-8.224500</td>\n",
              "      <td>0</td>\n",
              "      <td>0.0</td>\n",
              "      <td>0</td>\n",
              "    </tr>\n",
              "    <tr>\n",
              "      <th>16470</th>\n",
              "      <td>2020-01-22</td>\n",
              "      <td>China</td>\n",
              "      <td>23.341700</td>\n",
              "      <td>113.424400</td>\n",
              "      <td>26</td>\n",
              "      <td>0.0</td>\n",
              "      <td>0</td>\n",
              "    </tr>\n",
              "    <tr>\n",
              "      <th>55620</th>\n",
              "      <td>2020-01-22</td>\n",
              "      <td>Qatar</td>\n",
              "      <td>25.354800</td>\n",
              "      <td>51.183900</td>\n",
              "      <td>0</td>\n",
              "      <td>0.0</td>\n",
              "      <td>0</td>\n",
              "    </tr>\n",
              "    <tr>\n",
              "      <th>16200</th>\n",
              "      <td>2020-01-22</td>\n",
              "      <td>China</td>\n",
              "      <td>35.751800</td>\n",
              "      <td>104.286100</td>\n",
              "      <td>0</td>\n",
              "      <td>0.0</td>\n",
              "      <td>0</td>\n",
              "    </tr>\n",
              "    <tr>\n",
              "      <th>55890</th>\n",
              "      <td>2020-01-22</td>\n",
              "      <td>Romania</td>\n",
              "      <td>45.943200</td>\n",
              "      <td>24.966800</td>\n",
              "      <td>0</td>\n",
              "      <td>0.0</td>\n",
              "      <td>0</td>\n",
              "    </tr>\n",
              "    <tr>\n",
              "      <th>15930</th>\n",
              "      <td>2020-01-22</td>\n",
              "      <td>China</td>\n",
              "      <td>26.078900</td>\n",
              "      <td>117.987400</td>\n",
              "      <td>1</td>\n",
              "      <td>0.0</td>\n",
              "      <td>0</td>\n",
              "    </tr>\n",
              "    <tr>\n",
              "      <th>56160</th>\n",
              "      <td>2020-01-22</td>\n",
              "      <td>Russia</td>\n",
              "      <td>61.524010</td>\n",
              "      <td>105.318756</td>\n",
              "      <td>0</td>\n",
              "      <td>0.0</td>\n",
              "      <td>0</td>\n",
              "    </tr>\n",
              "    <tr>\n",
              "      <th>15660</th>\n",
              "      <td>2020-01-22</td>\n",
              "      <td>China</td>\n",
              "      <td>30.057200</td>\n",
              "      <td>107.874000</td>\n",
              "      <td>6</td>\n",
              "      <td>0.0</td>\n",
              "      <td>0</td>\n",
              "    </tr>\n",
              "    <tr>\n",
              "      <th>56430</th>\n",
              "      <td>2020-01-22</td>\n",
              "      <td>Rwanda</td>\n",
              "      <td>-1.940300</td>\n",
              "      <td>29.873900</td>\n",
              "      <td>0</td>\n",
              "      <td>0.0</td>\n",
              "      <td>0</td>\n",
              "    </tr>\n",
              "    <tr>\n",
              "      <th>15390</th>\n",
              "      <td>2020-01-22</td>\n",
              "      <td>China</td>\n",
              "      <td>40.182400</td>\n",
              "      <td>116.414200</td>\n",
              "      <td>14</td>\n",
              "      <td>0.0</td>\n",
              "      <td>0</td>\n",
              "    </tr>\n",
              "    <tr>\n",
              "      <th>56700</th>\n",
              "      <td>2020-01-22</td>\n",
              "      <td>Saint Kitts and Nevis</td>\n",
              "      <td>17.357822</td>\n",
              "      <td>-62.782998</td>\n",
              "      <td>0</td>\n",
              "      <td>0.0</td>\n",
              "      <td>0</td>\n",
              "    </tr>\n",
              "    <tr>\n",
              "      <th>15120</th>\n",
              "      <td>2020-01-22</td>\n",
              "      <td>China</td>\n",
              "      <td>31.825700</td>\n",
              "      <td>117.226400</td>\n",
              "      <td>1</td>\n",
              "      <td>0.0</td>\n",
              "      <td>0</td>\n",
              "    </tr>\n",
              "    <tr>\n",
              "      <th>56970</th>\n",
              "      <td>2020-01-22</td>\n",
              "      <td>Saint Lucia</td>\n",
              "      <td>13.909400</td>\n",
              "      <td>-60.978900</td>\n",
              "      <td>0</td>\n",
              "      <td>0.0</td>\n",
              "      <td>0</td>\n",
              "    </tr>\n",
              "  </tbody>\n",
              "</table>\n",
              "</div>"
            ],
            "text/plain": [
              "            Date         Country/Region  ...  Recovered  Deaths\n",
              "58590 2020-01-22                 Serbia  ...        0.0       0\n",
              "62640 2020-01-22            Switzerland  ...        0.0       0\n",
              "13500 2020-01-22                 Canada  ...        NaN       0\n",
              "13770 2020-01-22                 Canada  ...        NaN       0\n",
              "54270 2020-01-22               Paraguay  ...        0.0       0\n",
              "17550 2020-01-22                  China  ...        0.0       0\n",
              "54540 2020-01-22                   Peru  ...        0.0       0\n",
              "17280 2020-01-22                  China  ...        0.0       0\n",
              "54810 2020-01-22            Philippines  ...        0.0       0\n",
              "17010 2020-01-22                  China  ...        0.0       0\n",
              "55080 2020-01-22                 Poland  ...        0.0       0\n",
              "16740 2020-01-22                  China  ...        0.0       0\n",
              "55350 2020-01-22               Portugal  ...        0.0       0\n",
              "16470 2020-01-22                  China  ...        0.0       0\n",
              "55620 2020-01-22                  Qatar  ...        0.0       0\n",
              "16200 2020-01-22                  China  ...        0.0       0\n",
              "55890 2020-01-22                Romania  ...        0.0       0\n",
              "15930 2020-01-22                  China  ...        0.0       0\n",
              "56160 2020-01-22                 Russia  ...        0.0       0\n",
              "15660 2020-01-22                  China  ...        0.0       0\n",
              "56430 2020-01-22                 Rwanda  ...        0.0       0\n",
              "15390 2020-01-22                  China  ...        0.0       0\n",
              "56700 2020-01-22  Saint Kitts and Nevis  ...        0.0       0\n",
              "15120 2020-01-22                  China  ...        0.0       0\n",
              "56970 2020-01-22            Saint Lucia  ...        0.0       0\n",
              "\n",
              "[25 rows x 7 columns]"
            ]
          },
          "metadata": {
            "tags": []
          },
          "execution_count": 13
        }
      ]
    },
    {
      "cell_type": "markdown",
      "metadata": {
        "id": "CnYXiYBG2l8q"
      },
      "source": [
        ""
      ]
    },
    {
      "cell_type": "code",
      "metadata": {
        "id": "acqOLMk32o6u",
        "outputId": "a2e4332f-c863-4d7a-d5fd-a15ab5499b81",
        "colab": {
          "base_uri": "https://localhost:8080/",
          "height": 151
        }
      },
      "source": [
        "df_clean.isna().sum()"
      ],
      "execution_count": 14,
      "outputs": [
        {
          "output_type": "execute_result",
          "data": {
            "text/plain": [
              "Date                 0\n",
              "Country/Region       0\n",
              "Lat                  0\n",
              "Long                 0\n",
              "Confirmed            0\n",
              "Recovered         3780\n",
              "Deaths               0\n",
              "dtype: int64"
            ]
          },
          "metadata": {
            "tags": []
          },
          "execution_count": 14
        }
      ]
    },
    {
      "cell_type": "code",
      "metadata": {
        "id": "9Et10ZgY2pNm",
        "outputId": "424008ed-76e8-40b9-c8e2-5d79b770b7b3",
        "colab": {
          "base_uri": "https://localhost:8080/",
          "height": 166
        }
      },
      "source": [
        "df_missing_recovery = df_clean[df_clean.isnull().any(axis=1)]\n",
        "df_missing_recovery.describe(include=\"O\")"
      ],
      "execution_count": 15,
      "outputs": [
        {
          "output_type": "execute_result",
          "data": {
            "text/html": [
              "<div>\n",
              "<style scoped>\n",
              "    .dataframe tbody tr th:only-of-type {\n",
              "        vertical-align: middle;\n",
              "    }\n",
              "\n",
              "    .dataframe tbody tr th {\n",
              "        vertical-align: top;\n",
              "    }\n",
              "\n",
              "    .dataframe thead th {\n",
              "        text-align: right;\n",
              "    }\n",
              "</style>\n",
              "<table border=\"1\" class=\"dataframe\">\n",
              "  <thead>\n",
              "    <tr style=\"text-align: right;\">\n",
              "      <th></th>\n",
              "      <th>Country/Region</th>\n",
              "    </tr>\n",
              "  </thead>\n",
              "  <tbody>\n",
              "    <tr>\n",
              "      <th>count</th>\n",
              "      <td>3780</td>\n",
              "    </tr>\n",
              "    <tr>\n",
              "      <th>unique</th>\n",
              "      <td>1</td>\n",
              "    </tr>\n",
              "    <tr>\n",
              "      <th>top</th>\n",
              "      <td>Canada</td>\n",
              "    </tr>\n",
              "    <tr>\n",
              "      <th>freq</th>\n",
              "      <td>3780</td>\n",
              "    </tr>\n",
              "  </tbody>\n",
              "</table>\n",
              "</div>"
            ],
            "text/plain": [
              "       Country/Region\n",
              "count            3780\n",
              "unique              1\n",
              "top            Canada\n",
              "freq             3780"
            ]
          },
          "metadata": {
            "tags": []
          },
          "execution_count": 15
        }
      ]
    },
    {
      "cell_type": "code",
      "metadata": {
        "id": "HolImjsO2pb3",
        "outputId": "aa217bb4-1138-416f-a0d8-12dfceecce25",
        "colab": {
          "base_uri": "https://localhost:8080/",
          "height": 402
        }
      },
      "source": [
        "df[df['Country/Region'] == \"Canada\"]"
      ],
      "execution_count": 16,
      "outputs": [
        {
          "output_type": "execute_result",
          "data": {
            "text/html": [
              "<div>\n",
              "<style scoped>\n",
              "    .dataframe tbody tr th:only-of-type {\n",
              "        vertical-align: middle;\n",
              "    }\n",
              "\n",
              "    .dataframe tbody tr th {\n",
              "        vertical-align: top;\n",
              "    }\n",
              "\n",
              "    .dataframe thead th {\n",
              "        text-align: right;\n",
              "    }\n",
              "</style>\n",
              "<table border=\"1\" class=\"dataframe\">\n",
              "  <thead>\n",
              "    <tr style=\"text-align: right;\">\n",
              "      <th></th>\n",
              "      <th>Date</th>\n",
              "      <th>Country/Region</th>\n",
              "      <th>Province/State</th>\n",
              "      <th>Lat</th>\n",
              "      <th>Long</th>\n",
              "      <th>Confirmed</th>\n",
              "      <th>Recovered</th>\n",
              "      <th>Deaths</th>\n",
              "    </tr>\n",
              "  </thead>\n",
              "  <tbody>\n",
              "    <tr>\n",
              "      <th>10530</th>\n",
              "      <td>2020-01-22</td>\n",
              "      <td>Canada</td>\n",
              "      <td>Alberta</td>\n",
              "      <td>53.9333</td>\n",
              "      <td>-116.5765</td>\n",
              "      <td>0</td>\n",
              "      <td>NaN</td>\n",
              "      <td>0</td>\n",
              "    </tr>\n",
              "    <tr>\n",
              "      <th>10531</th>\n",
              "      <td>2020-01-23</td>\n",
              "      <td>Canada</td>\n",
              "      <td>Alberta</td>\n",
              "      <td>53.9333</td>\n",
              "      <td>-116.5765</td>\n",
              "      <td>0</td>\n",
              "      <td>NaN</td>\n",
              "      <td>0</td>\n",
              "    </tr>\n",
              "    <tr>\n",
              "      <th>10532</th>\n",
              "      <td>2020-01-24</td>\n",
              "      <td>Canada</td>\n",
              "      <td>Alberta</td>\n",
              "      <td>53.9333</td>\n",
              "      <td>-116.5765</td>\n",
              "      <td>0</td>\n",
              "      <td>NaN</td>\n",
              "      <td>0</td>\n",
              "    </tr>\n",
              "    <tr>\n",
              "      <th>10533</th>\n",
              "      <td>2020-01-25</td>\n",
              "      <td>Canada</td>\n",
              "      <td>Alberta</td>\n",
              "      <td>53.9333</td>\n",
              "      <td>-116.5765</td>\n",
              "      <td>0</td>\n",
              "      <td>NaN</td>\n",
              "      <td>0</td>\n",
              "    </tr>\n",
              "    <tr>\n",
              "      <th>10534</th>\n",
              "      <td>2020-01-26</td>\n",
              "      <td>Canada</td>\n",
              "      <td>Alberta</td>\n",
              "      <td>53.9333</td>\n",
              "      <td>-116.5765</td>\n",
              "      <td>0</td>\n",
              "      <td>NaN</td>\n",
              "      <td>0</td>\n",
              "    </tr>\n",
              "    <tr>\n",
              "      <th>...</th>\n",
              "      <td>...</td>\n",
              "      <td>...</td>\n",
              "      <td>...</td>\n",
              "      <td>...</td>\n",
              "      <td>...</td>\n",
              "      <td>...</td>\n",
              "      <td>...</td>\n",
              "      <td>...</td>\n",
              "    </tr>\n",
              "    <tr>\n",
              "      <th>14305</th>\n",
              "      <td>2020-10-13</td>\n",
              "      <td>Canada</td>\n",
              "      <td>Yukon</td>\n",
              "      <td>64.2823</td>\n",
              "      <td>-135.0000</td>\n",
              "      <td>15</td>\n",
              "      <td>NaN</td>\n",
              "      <td>0</td>\n",
              "    </tr>\n",
              "    <tr>\n",
              "      <th>14306</th>\n",
              "      <td>2020-10-14</td>\n",
              "      <td>Canada</td>\n",
              "      <td>Yukon</td>\n",
              "      <td>64.2823</td>\n",
              "      <td>-135.0000</td>\n",
              "      <td>15</td>\n",
              "      <td>NaN</td>\n",
              "      <td>0</td>\n",
              "    </tr>\n",
              "    <tr>\n",
              "      <th>14307</th>\n",
              "      <td>2020-10-15</td>\n",
              "      <td>Canada</td>\n",
              "      <td>Yukon</td>\n",
              "      <td>64.2823</td>\n",
              "      <td>-135.0000</td>\n",
              "      <td>15</td>\n",
              "      <td>NaN</td>\n",
              "      <td>0</td>\n",
              "    </tr>\n",
              "    <tr>\n",
              "      <th>14308</th>\n",
              "      <td>2020-10-16</td>\n",
              "      <td>Canada</td>\n",
              "      <td>Yukon</td>\n",
              "      <td>64.2823</td>\n",
              "      <td>-135.0000</td>\n",
              "      <td>15</td>\n",
              "      <td>NaN</td>\n",
              "      <td>0</td>\n",
              "    </tr>\n",
              "    <tr>\n",
              "      <th>14309</th>\n",
              "      <td>2020-10-17</td>\n",
              "      <td>Canada</td>\n",
              "      <td>Yukon</td>\n",
              "      <td>64.2823</td>\n",
              "      <td>-135.0000</td>\n",
              "      <td>15</td>\n",
              "      <td>NaN</td>\n",
              "      <td>0</td>\n",
              "    </tr>\n",
              "  </tbody>\n",
              "</table>\n",
              "<p>3780 rows × 8 columns</p>\n",
              "</div>"
            ],
            "text/plain": [
              "             Date Country/Region Province/State  ...  Confirmed  Recovered  Deaths\n",
              "10530  2020-01-22         Canada        Alberta  ...          0        NaN       0\n",
              "10531  2020-01-23         Canada        Alberta  ...          0        NaN       0\n",
              "10532  2020-01-24         Canada        Alberta  ...          0        NaN       0\n",
              "10533  2020-01-25         Canada        Alberta  ...          0        NaN       0\n",
              "10534  2020-01-26         Canada        Alberta  ...          0        NaN       0\n",
              "...           ...            ...            ...  ...        ...        ...     ...\n",
              "14305  2020-10-13         Canada          Yukon  ...         15        NaN       0\n",
              "14306  2020-10-14         Canada          Yukon  ...         15        NaN       0\n",
              "14307  2020-10-15         Canada          Yukon  ...         15        NaN       0\n",
              "14308  2020-10-16         Canada          Yukon  ...         15        NaN       0\n",
              "14309  2020-10-17         Canada          Yukon  ...         15        NaN       0\n",
              "\n",
              "[3780 rows x 8 columns]"
            ]
          },
          "metadata": {
            "tags": []
          },
          "execution_count": 16
        }
      ]
    },
    {
      "cell_type": "code",
      "metadata": {
        "id": "-Joqf4hz2pfQ",
        "outputId": "22f3045a-ab8f-46d1-8a13-b94067a23ffd",
        "colab": {
          "base_uri": "https://localhost:8080/",
          "height": 195
        }
      },
      "source": [
        "df_clean.dropna(inplace=True)\n",
        "df_clean.head()"
      ],
      "execution_count": 17,
      "outputs": [
        {
          "output_type": "execute_result",
          "data": {
            "text/html": [
              "<div>\n",
              "<style scoped>\n",
              "    .dataframe tbody tr th:only-of-type {\n",
              "        vertical-align: middle;\n",
              "    }\n",
              "\n",
              "    .dataframe tbody tr th {\n",
              "        vertical-align: top;\n",
              "    }\n",
              "\n",
              "    .dataframe thead th {\n",
              "        text-align: right;\n",
              "    }\n",
              "</style>\n",
              "<table border=\"1\" class=\"dataframe\">\n",
              "  <thead>\n",
              "    <tr style=\"text-align: right;\">\n",
              "      <th></th>\n",
              "      <th>Date</th>\n",
              "      <th>Country/Region</th>\n",
              "      <th>Lat</th>\n",
              "      <th>Long</th>\n",
              "      <th>Confirmed</th>\n",
              "      <th>Recovered</th>\n",
              "      <th>Deaths</th>\n",
              "    </tr>\n",
              "  </thead>\n",
              "  <tbody>\n",
              "    <tr>\n",
              "      <th>0</th>\n",
              "      <td>2020-01-22</td>\n",
              "      <td>Afghanistan</td>\n",
              "      <td>33.939110</td>\n",
              "      <td>67.709953</td>\n",
              "      <td>0</td>\n",
              "      <td>0.0</td>\n",
              "      <td>0</td>\n",
              "    </tr>\n",
              "    <tr>\n",
              "      <th>58860</th>\n",
              "      <td>2020-01-22</td>\n",
              "      <td>Seychelles</td>\n",
              "      <td>-4.679600</td>\n",
              "      <td>55.492000</td>\n",
              "      <td>0</td>\n",
              "      <td>0.0</td>\n",
              "      <td>0</td>\n",
              "    </tr>\n",
              "    <tr>\n",
              "      <th>59130</th>\n",
              "      <td>2020-01-22</td>\n",
              "      <td>Sierra Leone</td>\n",
              "      <td>8.460555</td>\n",
              "      <td>-11.779889</td>\n",
              "      <td>0</td>\n",
              "      <td>0.0</td>\n",
              "      <td>0</td>\n",
              "    </tr>\n",
              "    <tr>\n",
              "      <th>59400</th>\n",
              "      <td>2020-01-22</td>\n",
              "      <td>Singapore</td>\n",
              "      <td>1.283300</td>\n",
              "      <td>103.833300</td>\n",
              "      <td>0</td>\n",
              "      <td>0.0</td>\n",
              "      <td>0</td>\n",
              "    </tr>\n",
              "    <tr>\n",
              "      <th>59670</th>\n",
              "      <td>2020-01-22</td>\n",
              "      <td>Slovakia</td>\n",
              "      <td>48.669000</td>\n",
              "      <td>19.699000</td>\n",
              "      <td>0</td>\n",
              "      <td>0.0</td>\n",
              "      <td>0</td>\n",
              "    </tr>\n",
              "  </tbody>\n",
              "</table>\n",
              "</div>"
            ],
            "text/plain": [
              "            Date Country/Region        Lat  ...  Confirmed  Recovered  Deaths\n",
              "0     2020-01-22    Afghanistan  33.939110  ...          0        0.0       0\n",
              "58860 2020-01-22     Seychelles  -4.679600  ...          0        0.0       0\n",
              "59130 2020-01-22   Sierra Leone   8.460555  ...          0        0.0       0\n",
              "59400 2020-01-22      Singapore   1.283300  ...          0        0.0       0\n",
              "59670 2020-01-22       Slovakia  48.669000  ...          0        0.0       0\n",
              "\n",
              "[5 rows x 7 columns]"
            ]
          },
          "metadata": {
            "tags": []
          },
          "execution_count": 17
        }
      ]
    },
    {
      "cell_type": "code",
      "metadata": {
        "id": "Uop7X7_Q2pie",
        "outputId": "ce5b6a5a-6c8d-4d85-9b94-deb852c15150",
        "colab": {
          "base_uri": "https://localhost:8080/",
          "height": 252
        }
      },
      "source": [
        "df_clean.info()"
      ],
      "execution_count": 18,
      "outputs": [
        {
          "output_type": "stream",
          "text": [
            "<class 'pandas.core.frame.DataFrame'>\n",
            "Int64Index: 68310 entries, 0 to 72089\n",
            "Data columns (total 7 columns):\n",
            " #   Column          Non-Null Count  Dtype         \n",
            "---  ------          --------------  -----         \n",
            " 0   Date            68310 non-null  datetime64[ns]\n",
            " 1   Country/Region  68310 non-null  object        \n",
            " 2   Lat             68310 non-null  float64       \n",
            " 3   Long            68310 non-null  float64       \n",
            " 4   Confirmed       68310 non-null  int64         \n",
            " 5   Recovered       68310 non-null  float64       \n",
            " 6   Deaths          68310 non-null  int64         \n",
            "dtypes: datetime64[ns](1), float64(3), int64(2), object(1)\n",
            "memory usage: 4.2+ MB\n"
          ],
          "name": "stdout"
        }
      ]
    },
    {
      "cell_type": "code",
      "metadata": {
        "id": "6hOmqAxc2plT",
        "outputId": "486658eb-05eb-4671-890c-0a6db2e32595",
        "colab": {
          "base_uri": "https://localhost:8080/",
          "height": 252
        }
      },
      "source": [
        "df_clean['Recovered'] = df_clean['Recovered'].astype(int)\n",
        "df_clean.info()"
      ],
      "execution_count": 19,
      "outputs": [
        {
          "output_type": "stream",
          "text": [
            "<class 'pandas.core.frame.DataFrame'>\n",
            "Int64Index: 68310 entries, 0 to 72089\n",
            "Data columns (total 7 columns):\n",
            " #   Column          Non-Null Count  Dtype         \n",
            "---  ------          --------------  -----         \n",
            " 0   Date            68310 non-null  datetime64[ns]\n",
            " 1   Country/Region  68310 non-null  object        \n",
            " 2   Lat             68310 non-null  float64       \n",
            " 3   Long            68310 non-null  float64       \n",
            " 4   Confirmed       68310 non-null  int64         \n",
            " 5   Recovered       68310 non-null  int64         \n",
            " 6   Deaths          68310 non-null  int64         \n",
            "dtypes: datetime64[ns](1), float64(2), int64(3), object(1)\n",
            "memory usage: 4.2+ MB\n"
          ],
          "name": "stdout"
        }
      ]
    },
    {
      "cell_type": "markdown",
      "metadata": {
        "id": "hf4FJzsn2Wm0"
      },
      "source": [
        "## **Bar Plot**"
      ]
    },
    {
      "cell_type": "code",
      "metadata": {
        "id": "lOtxGc-o_7CP",
        "outputId": "dd081cb3-350e-4277-8c67-db6aed1fd806",
        "colab": {
          "base_uri": "https://localhost:8080/",
          "height": 293
        }
      },
      "source": [
        "import matplotlib.pyplot as plt \n",
        "plt.bar(df['Country/Region'],df['Confirmed'])"
      ],
      "execution_count": 20,
      "outputs": [
        {
          "output_type": "execute_result",
          "data": {
            "text/plain": [
              "<BarContainer object of 72090 artists>"
            ]
          },
          "metadata": {
            "tags": []
          },
          "execution_count": 20
        },
        {
          "output_type": "display_data",
          "data": {
            "image/png": "[encoded data removed]",
            "text/plain": [
              "<Figure size 432x288 with 1 Axes>"
            ]
          },
          "metadata": {
            "tags": [],
            "needs_background": "light"
          }
        }
      ]
    },
    {
      "cell_type": "markdown",
      "metadata": {
        "id": "dGn4q16U2iNV"
      },
      "source": [
        "### **Scatter Plot**"
      ]
    },
    {
      "cell_type": "code",
      "metadata": {
        "id": "tmkGHC_OABq6",
        "outputId": "693b4f17-88d3-4439-e16a-746a33a17d0a",
        "colab": {
          "base_uri": "https://localhost:8080/",
          "height": 293
        }
      },
      "source": [
        "plt.scatter(df['Country/Region'],df['Confirmed'])"
      ],
      "execution_count": 21,
      "outputs": [
        {
          "output_type": "execute_result",
          "data": {
            "text/plain": [
              "<matplotlib.collections.PathCollection at 0x7f5b2ddd85c0>"
            ]
          },
          "metadata": {
            "tags": []
          },
          "execution_count": 21
        },
        {
          "output_type": "display_data",
          "data": {
            "image/png": "[encoded data removed]",
            "text/plain": [
              "<Figure size 432x288 with 1 Axes>"
            ]
          },
          "metadata": {
            "tags": [],
            "needs_background": "light"
          }
        }
      ]
    },
    {
      "cell_type": "markdown",
      "metadata": {
        "id": "PxMe_1WU2stp"
      },
      "source": [
        "## **Pivot Table**"
      ]
    },
    {
      "cell_type": "code",
      "metadata": {
        "id": "i5CtKH0KAB7L",
        "outputId": "9e0229b8-c506-4ef6-d785-691d4a9ccac2",
        "colab": {
          "base_uri": "https://localhost:8080/",
          "height": 485
        }
      },
      "source": [
        "dfPivot = pd.pivot_table(df, values='Confirmed', columns='Date', index= 'Country/Region')\n",
        "dfPivot"
      ],
      "execution_count": 22,
      "outputs": [
        {
          "output_type": "execute_result",
          "data": {
            "text/html": [
              "<div>\n",
              "<style scoped>\n",
              "    .dataframe tbody tr th:only-of-type {\n",
              "        vertical-align: middle;\n",
              "    }\n",
              "\n",
              "    .dataframe tbody tr th {\n",
              "        vertical-align: top;\n",
              "    }\n",
              "\n",
              "    .dataframe thead th {\n",
              "        text-align: right;\n",
              "    }\n",
              "</style>\n",
              "<table border=\"1\" class=\"dataframe\">\n",
              "  <thead>\n",
              "    <tr style=\"text-align: right;\">\n",
              "      <th>Date</th>\n",
              "      <th>2020-01-22</th>\n",
              "      <th>2020-01-23</th>\n",
              "      <th>2020-01-24</th>\n",
              "      <th>2020-01-25</th>\n",
              "      <th>2020-01-26</th>\n",
              "      <th>2020-01-27</th>\n",
              "      <th>2020-01-28</th>\n",
              "      <th>2020-01-29</th>\n",
              "      <th>2020-01-30</th>\n",
              "      <th>2020-01-31</th>\n",
              "      <th>2020-02-01</th>\n",
              "      <th>2020-02-02</th>\n",
              "      <th>2020-02-03</th>\n",
              "      <th>2020-02-04</th>\n",
              "      <th>2020-02-05</th>\n",
              "      <th>2020-02-06</th>\n",
              "      <th>2020-02-07</th>\n",
              "      <th>2020-02-08</th>\n",
              "      <th>2020-02-09</th>\n",
              "      <th>2020-02-10</th>\n",
              "      <th>2020-02-11</th>\n",
              "      <th>2020-02-12</th>\n",
              "      <th>2020-02-13</th>\n",
              "      <th>2020-02-14</th>\n",
              "      <th>2020-02-15</th>\n",
              "      <th>2020-02-16</th>\n",
              "      <th>2020-02-17</th>\n",
              "      <th>2020-02-18</th>\n",
              "      <th>2020-02-19</th>\n",
              "      <th>2020-02-20</th>\n",
              "      <th>2020-02-21</th>\n",
              "      <th>2020-02-22</th>\n",
              "      <th>2020-02-23</th>\n",
              "      <th>2020-02-24</th>\n",
              "      <th>2020-02-25</th>\n",
              "      <th>2020-02-26</th>\n",
              "      <th>2020-02-27</th>\n",
              "      <th>2020-02-28</th>\n",
              "      <th>2020-02-29</th>\n",
              "      <th>2020-03-01</th>\n",
              "      <th>...</th>\n",
              "      <th>2020-09-08</th>\n",
              "      <th>2020-09-09</th>\n",
              "      <th>2020-09-10</th>\n",
              "      <th>2020-09-11</th>\n",
              "      <th>2020-09-12</th>\n",
              "      <th>2020-09-13</th>\n",
              "      <th>2020-09-14</th>\n",
              "      <th>2020-09-15</th>\n",
              "      <th>2020-09-16</th>\n",
              "      <th>2020-09-17</th>\n",
              "      <th>2020-09-18</th>\n",
              "      <th>2020-09-19</th>\n",
              "      <th>2020-09-20</th>\n",
              "      <th>2020-09-21</th>\n",
              "      <th>2020-09-22</th>\n",
              "      <th>2020-09-23</th>\n",
              "      <th>2020-09-24</th>\n",
              "      <th>2020-09-25</th>\n",
              "      <th>2020-09-26</th>\n",
              "      <th>2020-09-27</th>\n",
              "      <th>2020-09-28</th>\n",
              "      <th>2020-09-29</th>\n",
              "      <th>2020-09-30</th>\n",
              "      <th>2020-10-01</th>\n",
              "      <th>2020-10-02</th>\n",
              "      <th>2020-10-03</th>\n",
              "      <th>2020-10-04</th>\n",
              "      <th>2020-10-05</th>\n",
              "      <th>2020-10-06</th>\n",
              "      <th>2020-10-07</th>\n",
              "      <th>2020-10-08</th>\n",
              "      <th>2020-10-09</th>\n",
              "      <th>2020-10-10</th>\n",
              "      <th>2020-10-11</th>\n",
              "      <th>2020-10-12</th>\n",
              "      <th>2020-10-13</th>\n",
              "      <th>2020-10-14</th>\n",
              "      <th>2020-10-15</th>\n",
              "      <th>2020-10-16</th>\n",
              "      <th>2020-10-17</th>\n",
              "    </tr>\n",
              "    <tr>\n",
              "      <th>Country/Region</th>\n",
              "      <th></th>\n",
              "      <th></th>\n",
              "      <th></th>\n",
              "      <th></th>\n",
              "      <th></th>\n",
              "      <th></th>\n",
              "      <th></th>\n",
              "      <th></th>\n",
              "      <th></th>\n",
              "      <th></th>\n",
              "      <th></th>\n",
              "      <th></th>\n",
              "      <th></th>\n",
              "      <th></th>\n",
              "      <th></th>\n",
              "      <th></th>\n",
              "      <th></th>\n",
              "      <th></th>\n",
              "      <th></th>\n",
              "      <th></th>\n",
              "      <th></th>\n",
              "      <th></th>\n",
              "      <th></th>\n",
              "      <th></th>\n",
              "      <th></th>\n",
              "      <th></th>\n",
              "      <th></th>\n",
              "      <th></th>\n",
              "      <th></th>\n",
              "      <th></th>\n",
              "      <th></th>\n",
              "      <th></th>\n",
              "      <th></th>\n",
              "      <th></th>\n",
              "      <th></th>\n",
              "      <th></th>\n",
              "      <th></th>\n",
              "      <th></th>\n",
              "      <th></th>\n",
              "      <th></th>\n",
              "      <th></th>\n",
              "      <th></th>\n",
              "      <th></th>\n",
              "      <th></th>\n",
              "      <th></th>\n",
              "      <th></th>\n",
              "      <th></th>\n",
              "      <th></th>\n",
              "      <th></th>\n",
              "      <th></th>\n",
              "      <th></th>\n",
              "      <th></th>\n",
              "      <th></th>\n",
              "      <th></th>\n",
              "      <th></th>\n",
              "      <th></th>\n",
              "      <th></th>\n",
              "      <th></th>\n",
              "      <th></th>\n",
              "      <th></th>\n",
              "      <th></th>\n",
              "      <th></th>\n",
              "      <th></th>\n",
              "      <th></th>\n",
              "      <th></th>\n",
              "      <th></th>\n",
              "      <th></th>\n",
              "      <th></th>\n",
              "      <th></th>\n",
              "      <th></th>\n",
              "      <th></th>\n",
              "      <th></th>\n",
              "      <th></th>\n",
              "      <th></th>\n",
              "      <th></th>\n",
              "      <th></th>\n",
              "      <th></th>\n",
              "      <th></th>\n",
              "      <th></th>\n",
              "      <th></th>\n",
              "      <th></th>\n",
              "    </tr>\n",
              "  </thead>\n",
              "  <tbody>\n",
              "    <tr>\n",
              "      <th>Afghanistan</th>\n",
              "      <td>0.0</td>\n",
              "      <td>0.0</td>\n",
              "      <td>0.0</td>\n",
              "      <td>0.0</td>\n",
              "      <td>0.0</td>\n",
              "      <td>0.0</td>\n",
              "      <td>0.0</td>\n",
              "      <td>0.0</td>\n",
              "      <td>0.0</td>\n",
              "      <td>0.0</td>\n",
              "      <td>0.0</td>\n",
              "      <td>0.0</td>\n",
              "      <td>0.0</td>\n",
              "      <td>0.0</td>\n",
              "      <td>0.0</td>\n",
              "      <td>0.0</td>\n",
              "      <td>0.0</td>\n",
              "      <td>0.0</td>\n",
              "      <td>0.0</td>\n",
              "      <td>0.0</td>\n",
              "      <td>0.0</td>\n",
              "      <td>0.0</td>\n",
              "      <td>0.0</td>\n",
              "      <td>0.0</td>\n",
              "      <td>0.0</td>\n",
              "      <td>0.0</td>\n",
              "      <td>0.0</td>\n",
              "      <td>0.0</td>\n",
              "      <td>0.0</td>\n",
              "      <td>0.0</td>\n",
              "      <td>0.0</td>\n",
              "      <td>0.0</td>\n",
              "      <td>0.0</td>\n",
              "      <td>1.0</td>\n",
              "      <td>1.0</td>\n",
              "      <td>1.0</td>\n",
              "      <td>1.0</td>\n",
              "      <td>1.0</td>\n",
              "      <td>1.0</td>\n",
              "      <td>1.0</td>\n",
              "      <td>...</td>\n",
              "      <td>38520.0</td>\n",
              "      <td>38544.0</td>\n",
              "      <td>38572.0</td>\n",
              "      <td>38606.0</td>\n",
              "      <td>38641.0</td>\n",
              "      <td>38716.0</td>\n",
              "      <td>38772.0</td>\n",
              "      <td>38815.0</td>\n",
              "      <td>38855.0</td>\n",
              "      <td>38872.0</td>\n",
              "      <td>38883.0</td>\n",
              "      <td>38919.0</td>\n",
              "      <td>39044.0</td>\n",
              "      <td>39074.0</td>\n",
              "      <td>39096.0</td>\n",
              "      <td>39145.0</td>\n",
              "      <td>39170.0</td>\n",
              "      <td>39186.0</td>\n",
              "      <td>39192.0</td>\n",
              "      <td>39227.0</td>\n",
              "      <td>39233.0</td>\n",
              "      <td>39254.0</td>\n",
              "      <td>39268.0</td>\n",
              "      <td>39285.0</td>\n",
              "      <td>39290.0</td>\n",
              "      <td>39297.0</td>\n",
              "      <td>39341.0</td>\n",
              "      <td>39422.0</td>\n",
              "      <td>39486.0</td>\n",
              "      <td>39548.0</td>\n",
              "      <td>39616.0</td>\n",
              "      <td>39693.0</td>\n",
              "      <td>39703.0</td>\n",
              "      <td>39799.0</td>\n",
              "      <td>39870.0</td>\n",
              "      <td>39928.0</td>\n",
              "      <td>39994.0</td>\n",
              "      <td>40026.0</td>\n",
              "      <td>40073.0</td>\n",
              "      <td>40141.0</td>\n",
              "    </tr>\n",
              "    <tr>\n",
              "      <th>Albania</th>\n",
              "      <td>0.0</td>\n",
              "      <td>0.0</td>\n",
              "      <td>0.0</td>\n",
              "      <td>0.0</td>\n",
              "      <td>0.0</td>\n",
              "      <td>0.0</td>\n",
              "      <td>0.0</td>\n",
              "      <td>0.0</td>\n",
              "      <td>0.0</td>\n",
              "      <td>0.0</td>\n",
              "      <td>0.0</td>\n",
              "      <td>0.0</td>\n",
              "      <td>0.0</td>\n",
              "      <td>0.0</td>\n",
              "      <td>0.0</td>\n",
              "      <td>0.0</td>\n",
              "      <td>0.0</td>\n",
              "      <td>0.0</td>\n",
              "      <td>0.0</td>\n",
              "      <td>0.0</td>\n",
              "      <td>0.0</td>\n",
              "      <td>0.0</td>\n",
              "      <td>0.0</td>\n",
              "      <td>0.0</td>\n",
              "      <td>0.0</td>\n",
              "      <td>0.0</td>\n",
              "      <td>0.0</td>\n",
              "      <td>0.0</td>\n",
              "      <td>0.0</td>\n",
              "      <td>0.0</td>\n",
              "      <td>0.0</td>\n",
              "      <td>0.0</td>\n",
              "      <td>0.0</td>\n",
              "      <td>0.0</td>\n",
              "      <td>0.0</td>\n",
              "      <td>0.0</td>\n",
              "      <td>0.0</td>\n",
              "      <td>0.0</td>\n",
              "      <td>0.0</td>\n",
              "      <td>0.0</td>\n",
              "      <td>...</td>\n",
              "      <td>10553.0</td>\n",
              "      <td>10704.0</td>\n",
              "      <td>10860.0</td>\n",
              "      <td>11021.0</td>\n",
              "      <td>11185.0</td>\n",
              "      <td>11353.0</td>\n",
              "      <td>11520.0</td>\n",
              "      <td>11672.0</td>\n",
              "      <td>11816.0</td>\n",
              "      <td>11948.0</td>\n",
              "      <td>12073.0</td>\n",
              "      <td>12226.0</td>\n",
              "      <td>12385.0</td>\n",
              "      <td>12535.0</td>\n",
              "      <td>12666.0</td>\n",
              "      <td>12787.0</td>\n",
              "      <td>12921.0</td>\n",
              "      <td>13045.0</td>\n",
              "      <td>13153.0</td>\n",
              "      <td>13259.0</td>\n",
              "      <td>13391.0</td>\n",
              "      <td>13518.0</td>\n",
              "      <td>13649.0</td>\n",
              "      <td>13806.0</td>\n",
              "      <td>13965.0</td>\n",
              "      <td>14117.0</td>\n",
              "      <td>14266.0</td>\n",
              "      <td>14410.0</td>\n",
              "      <td>14568.0</td>\n",
              "      <td>14730.0</td>\n",
              "      <td>14899.0</td>\n",
              "      <td>15066.0</td>\n",
              "      <td>15231.0</td>\n",
              "      <td>15399.0</td>\n",
              "      <td>15570.0</td>\n",
              "      <td>15752.0</td>\n",
              "      <td>15955.0</td>\n",
              "      <td>16212.0</td>\n",
              "      <td>16501.0</td>\n",
              "      <td>16774.0</td>\n",
              "    </tr>\n",
              "    <tr>\n",
              "      <th>Algeria</th>\n",
              "      <td>0.0</td>\n",
              "      <td>0.0</td>\n",
              "      <td>0.0</td>\n",
              "      <td>0.0</td>\n",
              "      <td>0.0</td>\n",
              "      <td>0.0</td>\n",
              "      <td>0.0</td>\n",
              "      <td>0.0</td>\n",
              "      <td>0.0</td>\n",
              "      <td>0.0</td>\n",
              "      <td>0.0</td>\n",
              "      <td>0.0</td>\n",
              "      <td>0.0</td>\n",
              "      <td>0.0</td>\n",
              "      <td>0.0</td>\n",
              "      <td>0.0</td>\n",
              "      <td>0.0</td>\n",
              "      <td>0.0</td>\n",
              "      <td>0.0</td>\n",
              "      <td>0.0</td>\n",
              "      <td>0.0</td>\n",
              "      <td>0.0</td>\n",
              "      <td>0.0</td>\n",
              "      <td>0.0</td>\n",
              "      <td>0.0</td>\n",
              "      <td>0.0</td>\n",
              "      <td>0.0</td>\n",
              "      <td>0.0</td>\n",
              "      <td>0.0</td>\n",
              "      <td>0.0</td>\n",
              "      <td>0.0</td>\n",
              "      <td>0.0</td>\n",
              "      <td>0.0</td>\n",
              "      <td>0.0</td>\n",
              "      <td>1.0</td>\n",
              "      <td>1.0</td>\n",
              "      <td>1.0</td>\n",
              "      <td>1.0</td>\n",
              "      <td>1.0</td>\n",
              "      <td>1.0</td>\n",
              "      <td>...</td>\n",
              "      <td>46938.0</td>\n",
              "      <td>47216.0</td>\n",
              "      <td>47488.0</td>\n",
              "      <td>47752.0</td>\n",
              "      <td>48007.0</td>\n",
              "      <td>48254.0</td>\n",
              "      <td>48496.0</td>\n",
              "      <td>48734.0</td>\n",
              "      <td>48966.0</td>\n",
              "      <td>49194.0</td>\n",
              "      <td>49413.0</td>\n",
              "      <td>49623.0</td>\n",
              "      <td>49826.0</td>\n",
              "      <td>50023.0</td>\n",
              "      <td>50214.0</td>\n",
              "      <td>50400.0</td>\n",
              "      <td>50579.0</td>\n",
              "      <td>50754.0</td>\n",
              "      <td>50914.0</td>\n",
              "      <td>51067.0</td>\n",
              "      <td>51213.0</td>\n",
              "      <td>51368.0</td>\n",
              "      <td>51530.0</td>\n",
              "      <td>51690.0</td>\n",
              "      <td>51847.0</td>\n",
              "      <td>51995.0</td>\n",
              "      <td>52136.0</td>\n",
              "      <td>52270.0</td>\n",
              "      <td>52399.0</td>\n",
              "      <td>52520.0</td>\n",
              "      <td>52658.0</td>\n",
              "      <td>52804.0</td>\n",
              "      <td>52940.0</td>\n",
              "      <td>53072.0</td>\n",
              "      <td>53325.0</td>\n",
              "      <td>53399.0</td>\n",
              "      <td>53584.0</td>\n",
              "      <td>53777.0</td>\n",
              "      <td>53998.0</td>\n",
              "      <td>54203.0</td>\n",
              "    </tr>\n",
              "    <tr>\n",
              "      <th>Andorra</th>\n",
              "      <td>0.0</td>\n",
              "      <td>0.0</td>\n",
              "      <td>0.0</td>\n",
              "      <td>0.0</td>\n",
              "      <td>0.0</td>\n",
              "      <td>0.0</td>\n",
              "      <td>0.0</td>\n",
              "      <td>0.0</td>\n",
              "      <td>0.0</td>\n",
              "      <td>0.0</td>\n",
              "      <td>0.0</td>\n",
              "      <td>0.0</td>\n",
              "      <td>0.0</td>\n",
              "      <td>0.0</td>\n",
              "      <td>0.0</td>\n",
              "      <td>0.0</td>\n",
              "      <td>0.0</td>\n",
              "      <td>0.0</td>\n",
              "      <td>0.0</td>\n",
              "      <td>0.0</td>\n",
              "      <td>0.0</td>\n",
              "      <td>0.0</td>\n",
              "      <td>0.0</td>\n",
              "      <td>0.0</td>\n",
              "      <td>0.0</td>\n",
              "      <td>0.0</td>\n",
              "      <td>0.0</td>\n",
              "      <td>0.0</td>\n",
              "      <td>0.0</td>\n",
              "      <td>0.0</td>\n",
              "      <td>0.0</td>\n",
              "      <td>0.0</td>\n",
              "      <td>0.0</td>\n",
              "      <td>0.0</td>\n",
              "      <td>0.0</td>\n",
              "      <td>0.0</td>\n",
              "      <td>0.0</td>\n",
              "      <td>0.0</td>\n",
              "      <td>0.0</td>\n",
              "      <td>0.0</td>\n",
              "      <td>...</td>\n",
              "      <td>1261.0</td>\n",
              "      <td>1301.0</td>\n",
              "      <td>1301.0</td>\n",
              "      <td>1344.0</td>\n",
              "      <td>1344.0</td>\n",
              "      <td>1344.0</td>\n",
              "      <td>1438.0</td>\n",
              "      <td>1438.0</td>\n",
              "      <td>1483.0</td>\n",
              "      <td>1483.0</td>\n",
              "      <td>1564.0</td>\n",
              "      <td>1564.0</td>\n",
              "      <td>1564.0</td>\n",
              "      <td>1681.0</td>\n",
              "      <td>1681.0</td>\n",
              "      <td>1753.0</td>\n",
              "      <td>1753.0</td>\n",
              "      <td>1836.0</td>\n",
              "      <td>1836.0</td>\n",
              "      <td>1836.0</td>\n",
              "      <td>1966.0</td>\n",
              "      <td>1966.0</td>\n",
              "      <td>2050.0</td>\n",
              "      <td>2050.0</td>\n",
              "      <td>2110.0</td>\n",
              "      <td>2110.0</td>\n",
              "      <td>2110.0</td>\n",
              "      <td>2370.0</td>\n",
              "      <td>2370.0</td>\n",
              "      <td>2568.0</td>\n",
              "      <td>2568.0</td>\n",
              "      <td>2696.0</td>\n",
              "      <td>2696.0</td>\n",
              "      <td>2696.0</td>\n",
              "      <td>2995.0</td>\n",
              "      <td>2995.0</td>\n",
              "      <td>3190.0</td>\n",
              "      <td>3190.0</td>\n",
              "      <td>3377.0</td>\n",
              "      <td>3377.0</td>\n",
              "    </tr>\n",
              "    <tr>\n",
              "      <th>Angola</th>\n",
              "      <td>0.0</td>\n",
              "      <td>0.0</td>\n",
              "      <td>0.0</td>\n",
              "      <td>0.0</td>\n",
              "      <td>0.0</td>\n",
              "      <td>0.0</td>\n",
              "      <td>0.0</td>\n",
              "      <td>0.0</td>\n",
              "      <td>0.0</td>\n",
              "      <td>0.0</td>\n",
              "      <td>0.0</td>\n",
              "      <td>0.0</td>\n",
              "      <td>0.0</td>\n",
              "      <td>0.0</td>\n",
              "      <td>0.0</td>\n",
              "      <td>0.0</td>\n",
              "      <td>0.0</td>\n",
              "      <td>0.0</td>\n",
              "      <td>0.0</td>\n",
              "      <td>0.0</td>\n",
              "      <td>0.0</td>\n",
              "      <td>0.0</td>\n",
              "      <td>0.0</td>\n",
              "      <td>0.0</td>\n",
              "      <td>0.0</td>\n",
              "      <td>0.0</td>\n",
              "      <td>0.0</td>\n",
              "      <td>0.0</td>\n",
              "      <td>0.0</td>\n",
              "      <td>0.0</td>\n",
              "      <td>0.0</td>\n",
              "      <td>0.0</td>\n",
              "      <td>0.0</td>\n",
              "      <td>0.0</td>\n",
              "      <td>0.0</td>\n",
              "      <td>0.0</td>\n",
              "      <td>0.0</td>\n",
              "      <td>0.0</td>\n",
              "      <td>0.0</td>\n",
              "      <td>0.0</td>\n",
              "      <td>...</td>\n",
              "      <td>3033.0</td>\n",
              "      <td>3092.0</td>\n",
              "      <td>3217.0</td>\n",
              "      <td>3279.0</td>\n",
              "      <td>3335.0</td>\n",
              "      <td>3388.0</td>\n",
              "      <td>3439.0</td>\n",
              "      <td>3569.0</td>\n",
              "      <td>3675.0</td>\n",
              "      <td>3789.0</td>\n",
              "      <td>3848.0</td>\n",
              "      <td>3901.0</td>\n",
              "      <td>3991.0</td>\n",
              "      <td>4117.0</td>\n",
              "      <td>4236.0</td>\n",
              "      <td>4363.0</td>\n",
              "      <td>4475.0</td>\n",
              "      <td>4590.0</td>\n",
              "      <td>4672.0</td>\n",
              "      <td>4718.0</td>\n",
              "      <td>4797.0</td>\n",
              "      <td>4905.0</td>\n",
              "      <td>4972.0</td>\n",
              "      <td>5114.0</td>\n",
              "      <td>5211.0</td>\n",
              "      <td>5370.0</td>\n",
              "      <td>5402.0</td>\n",
              "      <td>5530.0</td>\n",
              "      <td>5725.0</td>\n",
              "      <td>5725.0</td>\n",
              "      <td>5958.0</td>\n",
              "      <td>6031.0</td>\n",
              "      <td>6246.0</td>\n",
              "      <td>6366.0</td>\n",
              "      <td>6488.0</td>\n",
              "      <td>6680.0</td>\n",
              "      <td>6846.0</td>\n",
              "      <td>7096.0</td>\n",
              "      <td>7222.0</td>\n",
              "      <td>7462.0</td>\n",
              "    </tr>\n",
              "    <tr>\n",
              "      <th>...</th>\n",
              "      <td>...</td>\n",
              "      <td>...</td>\n",
              "      <td>...</td>\n",
              "      <td>...</td>\n",
              "      <td>...</td>\n",
              "      <td>...</td>\n",
              "      <td>...</td>\n",
              "      <td>...</td>\n",
              "      <td>...</td>\n",
              "      <td>...</td>\n",
              "      <td>...</td>\n",
              "      <td>...</td>\n",
              "      <td>...</td>\n",
              "      <td>...</td>\n",
              "      <td>...</td>\n",
              "      <td>...</td>\n",
              "      <td>...</td>\n",
              "      <td>...</td>\n",
              "      <td>...</td>\n",
              "      <td>...</td>\n",
              "      <td>...</td>\n",
              "      <td>...</td>\n",
              "      <td>...</td>\n",
              "      <td>...</td>\n",
              "      <td>...</td>\n",
              "      <td>...</td>\n",
              "      <td>...</td>\n",
              "      <td>...</td>\n",
              "      <td>...</td>\n",
              "      <td>...</td>\n",
              "      <td>...</td>\n",
              "      <td>...</td>\n",
              "      <td>...</td>\n",
              "      <td>...</td>\n",
              "      <td>...</td>\n",
              "      <td>...</td>\n",
              "      <td>...</td>\n",
              "      <td>...</td>\n",
              "      <td>...</td>\n",
              "      <td>...</td>\n",
              "      <td>...</td>\n",
              "      <td>...</td>\n",
              "      <td>...</td>\n",
              "      <td>...</td>\n",
              "      <td>...</td>\n",
              "      <td>...</td>\n",
              "      <td>...</td>\n",
              "      <td>...</td>\n",
              "      <td>...</td>\n",
              "      <td>...</td>\n",
              "      <td>...</td>\n",
              "      <td>...</td>\n",
              "      <td>...</td>\n",
              "      <td>...</td>\n",
              "      <td>...</td>\n",
              "      <td>...</td>\n",
              "      <td>...</td>\n",
              "      <td>...</td>\n",
              "      <td>...</td>\n",
              "      <td>...</td>\n",
              "      <td>...</td>\n",
              "      <td>...</td>\n",
              "      <td>...</td>\n",
              "      <td>...</td>\n",
              "      <td>...</td>\n",
              "      <td>...</td>\n",
              "      <td>...</td>\n",
              "      <td>...</td>\n",
              "      <td>...</td>\n",
              "      <td>...</td>\n",
              "      <td>...</td>\n",
              "      <td>...</td>\n",
              "      <td>...</td>\n",
              "      <td>...</td>\n",
              "      <td>...</td>\n",
              "      <td>...</td>\n",
              "      <td>...</td>\n",
              "      <td>...</td>\n",
              "      <td>...</td>\n",
              "      <td>...</td>\n",
              "      <td>...</td>\n",
              "    </tr>\n",
              "    <tr>\n",
              "      <th>West Bank and Gaza</th>\n",
              "      <td>0.0</td>\n",
              "      <td>0.0</td>\n",
              "      <td>0.0</td>\n",
              "      <td>0.0</td>\n",
              "      <td>0.0</td>\n",
              "      <td>0.0</td>\n",
              "      <td>0.0</td>\n",
              "      <td>0.0</td>\n",
              "      <td>0.0</td>\n",
              "      <td>0.0</td>\n",
              "      <td>0.0</td>\n",
              "      <td>0.0</td>\n",
              "      <td>0.0</td>\n",
              "      <td>0.0</td>\n",
              "      <td>0.0</td>\n",
              "      <td>0.0</td>\n",
              "      <td>0.0</td>\n",
              "      <td>0.0</td>\n",
              "      <td>0.0</td>\n",
              "      <td>0.0</td>\n",
              "      <td>0.0</td>\n",
              "      <td>0.0</td>\n",
              "      <td>0.0</td>\n",
              "      <td>0.0</td>\n",
              "      <td>0.0</td>\n",
              "      <td>0.0</td>\n",
              "      <td>0.0</td>\n",
              "      <td>0.0</td>\n",
              "      <td>0.0</td>\n",
              "      <td>0.0</td>\n",
              "      <td>0.0</td>\n",
              "      <td>0.0</td>\n",
              "      <td>0.0</td>\n",
              "      <td>0.0</td>\n",
              "      <td>0.0</td>\n",
              "      <td>0.0</td>\n",
              "      <td>0.0</td>\n",
              "      <td>0.0</td>\n",
              "      <td>0.0</td>\n",
              "      <td>0.0</td>\n",
              "      <td>...</td>\n",
              "      <td>27363.0</td>\n",
              "      <td>27919.0</td>\n",
              "      <td>28664.0</td>\n",
              "      <td>29256.0</td>\n",
              "      <td>29906.0</td>\n",
              "      <td>30574.0</td>\n",
              "      <td>31362.0</td>\n",
              "      <td>32250.0</td>\n",
              "      <td>33006.0</td>\n",
              "      <td>33843.0</td>\n",
              "      <td>34401.0</td>\n",
              "      <td>35003.0</td>\n",
              "      <td>35686.0</td>\n",
              "      <td>36151.0</td>\n",
              "      <td>36580.0</td>\n",
              "      <td>37083.0</td>\n",
              "      <td>37591.0</td>\n",
              "      <td>37963.0</td>\n",
              "      <td>38253.0</td>\n",
              "      <td>38703.0</td>\n",
              "      <td>39121.0</td>\n",
              "      <td>39541.0</td>\n",
              "      <td>39899.0</td>\n",
              "      <td>40322.0</td>\n",
              "      <td>40766.0</td>\n",
              "      <td>41078.0</td>\n",
              "      <td>41498.0</td>\n",
              "      <td>41957.0</td>\n",
              "      <td>42432.0</td>\n",
              "      <td>42840.0</td>\n",
              "      <td>43256.0</td>\n",
              "      <td>43664.0</td>\n",
              "      <td>43945.0</td>\n",
              "      <td>44299.0</td>\n",
              "      <td>44684.0</td>\n",
              "      <td>45200.0</td>\n",
              "      <td>45658.0</td>\n",
              "      <td>46100.0</td>\n",
              "      <td>46434.0</td>\n",
              "      <td>46746.0</td>\n",
              "    </tr>\n",
              "    <tr>\n",
              "      <th>Western Sahara</th>\n",
              "      <td>0.0</td>\n",
              "      <td>0.0</td>\n",
              "      <td>0.0</td>\n",
              "      <td>0.0</td>\n",
              "      <td>0.0</td>\n",
              "      <td>0.0</td>\n",
              "      <td>0.0</td>\n",
              "      <td>0.0</td>\n",
              "      <td>0.0</td>\n",
              "      <td>0.0</td>\n",
              "      <td>0.0</td>\n",
              "      <td>0.0</td>\n",
              "      <td>0.0</td>\n",
              "      <td>0.0</td>\n",
              "      <td>0.0</td>\n",
              "      <td>0.0</td>\n",
              "      <td>0.0</td>\n",
              "      <td>0.0</td>\n",
              "      <td>0.0</td>\n",
              "      <td>0.0</td>\n",
              "      <td>0.0</td>\n",
              "      <td>0.0</td>\n",
              "      <td>0.0</td>\n",
              "      <td>0.0</td>\n",
              "      <td>0.0</td>\n",
              "      <td>0.0</td>\n",
              "      <td>0.0</td>\n",
              "      <td>0.0</td>\n",
              "      <td>0.0</td>\n",
              "      <td>0.0</td>\n",
              "      <td>0.0</td>\n",
              "      <td>0.0</td>\n",
              "      <td>0.0</td>\n",
              "      <td>0.0</td>\n",
              "      <td>0.0</td>\n",
              "      <td>0.0</td>\n",
              "      <td>0.0</td>\n",
              "      <td>0.0</td>\n",
              "      <td>0.0</td>\n",
              "      <td>0.0</td>\n",
              "      <td>...</td>\n",
              "      <td>10.0</td>\n",
              "      <td>10.0</td>\n",
              "      <td>10.0</td>\n",
              "      <td>10.0</td>\n",
              "      <td>10.0</td>\n",
              "      <td>10.0</td>\n",
              "      <td>10.0</td>\n",
              "      <td>10.0</td>\n",
              "      <td>10.0</td>\n",
              "      <td>10.0</td>\n",
              "      <td>10.0</td>\n",
              "      <td>10.0</td>\n",
              "      <td>10.0</td>\n",
              "      <td>10.0</td>\n",
              "      <td>10.0</td>\n",
              "      <td>10.0</td>\n",
              "      <td>10.0</td>\n",
              "      <td>10.0</td>\n",
              "      <td>10.0</td>\n",
              "      <td>10.0</td>\n",
              "      <td>10.0</td>\n",
              "      <td>10.0</td>\n",
              "      <td>10.0</td>\n",
              "      <td>10.0</td>\n",
              "      <td>10.0</td>\n",
              "      <td>10.0</td>\n",
              "      <td>10.0</td>\n",
              "      <td>10.0</td>\n",
              "      <td>10.0</td>\n",
              "      <td>10.0</td>\n",
              "      <td>10.0</td>\n",
              "      <td>10.0</td>\n",
              "      <td>10.0</td>\n",
              "      <td>10.0</td>\n",
              "      <td>10.0</td>\n",
              "      <td>10.0</td>\n",
              "      <td>10.0</td>\n",
              "      <td>10.0</td>\n",
              "      <td>10.0</td>\n",
              "      <td>10.0</td>\n",
              "    </tr>\n",
              "    <tr>\n",
              "      <th>Yemen</th>\n",
              "      <td>0.0</td>\n",
              "      <td>0.0</td>\n",
              "      <td>0.0</td>\n",
              "      <td>0.0</td>\n",
              "      <td>0.0</td>\n",
              "      <td>0.0</td>\n",
              "      <td>0.0</td>\n",
              "      <td>0.0</td>\n",
              "      <td>0.0</td>\n",
              "      <td>0.0</td>\n",
              "      <td>0.0</td>\n",
              "      <td>0.0</td>\n",
              "      <td>0.0</td>\n",
              "      <td>0.0</td>\n",
              "      <td>0.0</td>\n",
              "      <td>0.0</td>\n",
              "      <td>0.0</td>\n",
              "      <td>0.0</td>\n",
              "      <td>0.0</td>\n",
              "      <td>0.0</td>\n",
              "      <td>0.0</td>\n",
              "      <td>0.0</td>\n",
              "      <td>0.0</td>\n",
              "      <td>0.0</td>\n",
              "      <td>0.0</td>\n",
              "      <td>0.0</td>\n",
              "      <td>0.0</td>\n",
              "      <td>0.0</td>\n",
              "      <td>0.0</td>\n",
              "      <td>0.0</td>\n",
              "      <td>0.0</td>\n",
              "      <td>0.0</td>\n",
              "      <td>0.0</td>\n",
              "      <td>0.0</td>\n",
              "      <td>0.0</td>\n",
              "      <td>0.0</td>\n",
              "      <td>0.0</td>\n",
              "      <td>0.0</td>\n",
              "      <td>0.0</td>\n",
              "      <td>0.0</td>\n",
              "      <td>...</td>\n",
              "      <td>1994.0</td>\n",
              "      <td>1999.0</td>\n",
              "      <td>2003.0</td>\n",
              "      <td>2007.0</td>\n",
              "      <td>2009.0</td>\n",
              "      <td>2011.0</td>\n",
              "      <td>2013.0</td>\n",
              "      <td>2016.0</td>\n",
              "      <td>2019.0</td>\n",
              "      <td>2022.0</td>\n",
              "      <td>2024.0</td>\n",
              "      <td>2026.0</td>\n",
              "      <td>2026.0</td>\n",
              "      <td>2028.0</td>\n",
              "      <td>2028.0</td>\n",
              "      <td>2029.0</td>\n",
              "      <td>2029.0</td>\n",
              "      <td>2029.0</td>\n",
              "      <td>2030.0</td>\n",
              "      <td>2030.0</td>\n",
              "      <td>2031.0</td>\n",
              "      <td>2031.0</td>\n",
              "      <td>2034.0</td>\n",
              "      <td>2039.0</td>\n",
              "      <td>2040.0</td>\n",
              "      <td>2041.0</td>\n",
              "      <td>2041.0</td>\n",
              "      <td>2041.0</td>\n",
              "      <td>2047.0</td>\n",
              "      <td>2049.0</td>\n",
              "      <td>2050.0</td>\n",
              "      <td>2051.0</td>\n",
              "      <td>2051.0</td>\n",
              "      <td>2052.0</td>\n",
              "      <td>2052.0</td>\n",
              "      <td>2053.0</td>\n",
              "      <td>2053.0</td>\n",
              "      <td>2053.0</td>\n",
              "      <td>2055.0</td>\n",
              "      <td>2055.0</td>\n",
              "    </tr>\n",
              "    <tr>\n",
              "      <th>Zambia</th>\n",
              "      <td>0.0</td>\n",
              "      <td>0.0</td>\n",
              "      <td>0.0</td>\n",
              "      <td>0.0</td>\n",
              "      <td>0.0</td>\n",
              "      <td>0.0</td>\n",
              "      <td>0.0</td>\n",
              "      <td>0.0</td>\n",
              "      <td>0.0</td>\n",
              "      <td>0.0</td>\n",
              "      <td>0.0</td>\n",
              "      <td>0.0</td>\n",
              "      <td>0.0</td>\n",
              "      <td>0.0</td>\n",
              "      <td>0.0</td>\n",
              "      <td>0.0</td>\n",
              "      <td>0.0</td>\n",
              "      <td>0.0</td>\n",
              "      <td>0.0</td>\n",
              "      <td>0.0</td>\n",
              "      <td>0.0</td>\n",
              "      <td>0.0</td>\n",
              "      <td>0.0</td>\n",
              "      <td>0.0</td>\n",
              "      <td>0.0</td>\n",
              "      <td>0.0</td>\n",
              "      <td>0.0</td>\n",
              "      <td>0.0</td>\n",
              "      <td>0.0</td>\n",
              "      <td>0.0</td>\n",
              "      <td>0.0</td>\n",
              "      <td>0.0</td>\n",
              "      <td>0.0</td>\n",
              "      <td>0.0</td>\n",
              "      <td>0.0</td>\n",
              "      <td>0.0</td>\n",
              "      <td>0.0</td>\n",
              "      <td>0.0</td>\n",
              "      <td>0.0</td>\n",
              "      <td>0.0</td>\n",
              "      <td>...</td>\n",
              "      <td>12952.0</td>\n",
              "      <td>13112.0</td>\n",
              "      <td>13214.0</td>\n",
              "      <td>13323.0</td>\n",
              "      <td>13466.0</td>\n",
              "      <td>13539.0</td>\n",
              "      <td>13720.0</td>\n",
              "      <td>13819.0</td>\n",
              "      <td>13887.0</td>\n",
              "      <td>13928.0</td>\n",
              "      <td>14022.0</td>\n",
              "      <td>14070.0</td>\n",
              "      <td>14131.0</td>\n",
              "      <td>14175.0</td>\n",
              "      <td>14389.0</td>\n",
              "      <td>14443.0</td>\n",
              "      <td>14491.0</td>\n",
              "      <td>14515.0</td>\n",
              "      <td>14612.0</td>\n",
              "      <td>14641.0</td>\n",
              "      <td>14660.0</td>\n",
              "      <td>14715.0</td>\n",
              "      <td>14759.0</td>\n",
              "      <td>14802.0</td>\n",
              "      <td>14830.0</td>\n",
              "      <td>14974.0</td>\n",
              "      <td>15052.0</td>\n",
              "      <td>15089.0</td>\n",
              "      <td>15170.0</td>\n",
              "      <td>15224.0</td>\n",
              "      <td>15301.0</td>\n",
              "      <td>15339.0</td>\n",
              "      <td>15415.0</td>\n",
              "      <td>15458.0</td>\n",
              "      <td>15549.0</td>\n",
              "      <td>15587.0</td>\n",
              "      <td>15616.0</td>\n",
              "      <td>15659.0</td>\n",
              "      <td>15659.0</td>\n",
              "      <td>15789.0</td>\n",
              "    </tr>\n",
              "    <tr>\n",
              "      <th>Zimbabwe</th>\n",
              "      <td>0.0</td>\n",
              "      <td>0.0</td>\n",
              "      <td>0.0</td>\n",
              "      <td>0.0</td>\n",
              "      <td>0.0</td>\n",
              "      <td>0.0</td>\n",
              "      <td>0.0</td>\n",
              "      <td>0.0</td>\n",
              "      <td>0.0</td>\n",
              "      <td>0.0</td>\n",
              "      <td>0.0</td>\n",
              "      <td>0.0</td>\n",
              "      <td>0.0</td>\n",
              "      <td>0.0</td>\n",
              "      <td>0.0</td>\n",
              "      <td>0.0</td>\n",
              "      <td>0.0</td>\n",
              "      <td>0.0</td>\n",
              "      <td>0.0</td>\n",
              "      <td>0.0</td>\n",
              "      <td>0.0</td>\n",
              "      <td>0.0</td>\n",
              "      <td>0.0</td>\n",
              "      <td>0.0</td>\n",
              "      <td>0.0</td>\n",
              "      <td>0.0</td>\n",
              "      <td>0.0</td>\n",
              "      <td>0.0</td>\n",
              "      <td>0.0</td>\n",
              "      <td>0.0</td>\n",
              "      <td>0.0</td>\n",
              "      <td>0.0</td>\n",
              "      <td>0.0</td>\n",
              "      <td>0.0</td>\n",
              "      <td>0.0</td>\n",
              "      <td>0.0</td>\n",
              "      <td>0.0</td>\n",
              "      <td>0.0</td>\n",
              "      <td>0.0</td>\n",
              "      <td>0.0</td>\n",
              "      <td>...</td>\n",
              "      <td>7388.0</td>\n",
              "      <td>7429.0</td>\n",
              "      <td>7453.0</td>\n",
              "      <td>7479.0</td>\n",
              "      <td>7508.0</td>\n",
              "      <td>7526.0</td>\n",
              "      <td>7531.0</td>\n",
              "      <td>7576.0</td>\n",
              "      <td>7598.0</td>\n",
              "      <td>7633.0</td>\n",
              "      <td>7647.0</td>\n",
              "      <td>7672.0</td>\n",
              "      <td>7683.0</td>\n",
              "      <td>7683.0</td>\n",
              "      <td>7711.0</td>\n",
              "      <td>7725.0</td>\n",
              "      <td>7752.0</td>\n",
              "      <td>7787.0</td>\n",
              "      <td>7803.0</td>\n",
              "      <td>7812.0</td>\n",
              "      <td>7816.0</td>\n",
              "      <td>7837.0</td>\n",
              "      <td>7838.0</td>\n",
              "      <td>7850.0</td>\n",
              "      <td>7858.0</td>\n",
              "      <td>7885.0</td>\n",
              "      <td>7888.0</td>\n",
              "      <td>7898.0</td>\n",
              "      <td>7915.0</td>\n",
              "      <td>7919.0</td>\n",
              "      <td>7951.0</td>\n",
              "      <td>7994.0</td>\n",
              "      <td>8010.0</td>\n",
              "      <td>8011.0</td>\n",
              "      <td>8021.0</td>\n",
              "      <td>8036.0</td>\n",
              "      <td>8055.0</td>\n",
              "      <td>8075.0</td>\n",
              "      <td>8099.0</td>\n",
              "      <td>8110.0</td>\n",
              "    </tr>\n",
              "  </tbody>\n",
              "</table>\n",
              "<p>189 rows × 270 columns</p>\n",
              "</div>"
            ],
            "text/plain": [
              "Date                2020-01-22  2020-01-23  ...  2020-10-16  2020-10-17\n",
              "Country/Region                              ...                        \n",
              "Afghanistan                0.0         0.0  ...     40073.0     40141.0\n",
              "Albania                    0.0         0.0  ...     16501.0     16774.0\n",
              "Algeria                    0.0         0.0  ...     53998.0     54203.0\n",
              "Andorra                    0.0         0.0  ...      3377.0      3377.0\n",
              "Angola                     0.0         0.0  ...      7222.0      7462.0\n",
              "...                        ...         ...  ...         ...         ...\n",
              "West Bank and Gaza         0.0         0.0  ...     46434.0     46746.0\n",
              "Western Sahara             0.0         0.0  ...        10.0        10.0\n",
              "Yemen                      0.0         0.0  ...      2055.0      2055.0\n",
              "Zambia                     0.0         0.0  ...     15659.0     15789.0\n",
              "Zimbabwe                   0.0         0.0  ...      8099.0      8110.0\n",
              "\n",
              "[189 rows x 270 columns]"
            ]
          },
          "metadata": {
            "tags": []
          },
          "execution_count": 22
        }
      ]
    },
    {
      "cell_type": "code",
      "metadata": {
        "id": "vhQxdEpHIAk3",
        "outputId": "9dea26e4-6ef0-4d97-a203-837dbd3c5318",
        "colab": {
          "base_uri": "https://localhost:8080/",
          "height": 1000
        }
      },
      "source": [
        "dfPivot.plot(figsize=(14,5))"
      ],
      "execution_count": 23,
      "outputs": [
        {
          "output_type": "execute_result",
          "data": {
            "text/plain": [
              "<matplotlib.axes._subplots.AxesSubplot at 0x7f5b021d6240>"
            ]
          },
          "metadata": {
            "tags": []
          },
          "execution_count": 23
        },
        {
          "output_type": "display_data",
          "data": {
            "image/png": "[encoded data removed]",
            "text/plain": [
              "<Figure size 1008x360 with 1 Axes>"
            ]
          },
          "metadata": {
            "tags": [],
            "needs_background": "light"
          }
        }
      ]
    },
    {
      "cell_type": "markdown",
      "metadata": {
        "id": "5_apDB9f3ELg"
      },
      "source": [
        "### **Line Plot**"
      ]
    },
    {
      "cell_type": "code",
      "metadata": {
        "id": "M3cDKC7CACEY",
        "outputId": "275146dd-fbb0-4207-aac6-2626daed640d",
        "colab": {
          "base_uri": "https://localhost:8080/",
          "height": 293
        }
      },
      "source": [
        "df['Confirmed'].plot()"
      ],
      "execution_count": 24,
      "outputs": [
        {
          "output_type": "execute_result",
          "data": {
            "text/plain": [
              "<matplotlib.axes._subplots.AxesSubplot at 0x7f5b00771b70>"
            ]
          },
          "metadata": {
            "tags": []
          },
          "execution_count": 24
        },
        {
          "output_type": "display_data",
          "data": {
            "image/png": "[encoded data removed]",
            "text/plain": [
              "<Figure size 432x288 with 1 Axes>"
            ]
          },
          "metadata": {
            "tags": [],
            "needs_background": "light"
          }
        }
      ]
    },
    {
      "cell_type": "code",
      "metadata": {
        "id": "MGKQilduLUMN",
        "outputId": "f5c81d16-00da-483b-a9aa-5235acbf44c7",
        "colab": {
          "base_uri": "https://localhost:8080/",
          "height": 67
        }
      },
      "source": [
        "df.columns"
      ],
      "execution_count": 25,
      "outputs": [
        {
          "output_type": "execute_result",
          "data": {
            "text/plain": [
              "Index(['Date', 'Country/Region', 'Province/State', 'Lat', 'Long', 'Confirmed',\n",
              "       'Recovered', 'Deaths'],\n",
              "      dtype='object')"
            ]
          },
          "metadata": {
            "tags": []
          },
          "execution_count": 25
        }
      ]
    },
    {
      "cell_type": "code",
      "metadata": {
        "id": "PGlCs9mBLUPf"
      },
      "source": [
        "df['Total_Cases']= df['Confirmed'] + df['Recovered'] +df['Deaths']"
      ],
      "execution_count": 26,
      "outputs": []
    },
    {
      "cell_type": "code",
      "metadata": {
        "id": "owX9PUjkM5HP",
        "outputId": "7e17b526-43d7-46ec-e16a-e549bf9b64a9",
        "colab": {
          "base_uri": "https://localhost:8080/",
          "height": 293
        }
      },
      "source": [
        "df.plot(kind='line',y=['Total_Cases'])"
      ],
      "execution_count": 27,
      "outputs": [
        {
          "output_type": "execute_result",
          "data": {
            "text/plain": [
              "<matplotlib.axes._subplots.AxesSubplot at 0x7f5b00810f28>"
            ]
          },
          "metadata": {
            "tags": []
          },
          "execution_count": 27
        },
        {
          "output_type": "display_data",
          "data": {
            "image/png": "[encoded data removed]",
            "text/plain": [
              "<Figure size 432x288 with 1 Axes>"
            ]
          },
          "metadata": {
            "tags": [],
            "needs_background": "light"
          }
        }
      ]
    },
    {
      "cell_type": "markdown",
      "metadata": {
        "id": "oo28vWp-yv-L"
      },
      "source": [
        "### **Maximum Value of Total Cases**"
      ]
    },
    {
      "cell_type": "code",
      "metadata": {
        "id": "wLE4n-pWclwW",
        "outputId": "a9119cb4-5205-4854-9d2a-668a9dc51e2e",
        "colab": {
          "base_uri": "https://localhost:8080/",
          "height": 84
        }
      },
      "source": [
        "column = df['Total_Cases']\n",
        "max_value = column.max()\n",
        "print(max_value)\n",
        "df[df[\"Total_Cases\"]== max_value][\"Country/Region\"]"
      ],
      "execution_count": 28,
      "outputs": [
        {
          "output_type": "stream",
          "text": [
            "14070273.0\n"
          ],
          "name": "stdout"
        },
        {
          "output_type": "execute_result",
          "data": {
            "text/plain": [
              "38878    India\n",
              "38879    India\n",
              "Name: Country/Region, dtype: object"
            ]
          },
          "metadata": {
            "tags": []
          },
          "execution_count": 28
        }
      ]
    },
    {
      "cell_type": "markdown",
      "metadata": {
        "id": "nO-ljCfey0xZ"
      },
      "source": [
        "### **Maximum Value of Confirmed/Active Cases**"
      ]
    },
    {
      "cell_type": "code",
      "metadata": {
        "id": "htMHn7bFgJ6v",
        "outputId": "c53b2e6e-ca29-4cc2-ed25-3e77e90849d4",
        "colab": {
          "base_uri": "https://localhost:8080/",
          "height": 67
        }
      },
      "source": [
        "max_value1 = df['Confirmed'].max()\n",
        "print(max_value1)\n",
        "df[df[\"Confirmed\"]== max_value1][\"Country/Region\"]"
      ],
      "execution_count": 29,
      "outputs": [
        {
          "output_type": "stream",
          "text": [
            "8106384\n"
          ],
          "name": "stdout"
        },
        {
          "output_type": "execute_result",
          "data": {
            "text/plain": [
              "65879    US\n",
              "Name: Country/Region, dtype: object"
            ]
          },
          "metadata": {
            "tags": []
          },
          "execution_count": 29
        }
      ]
    },
    {
      "cell_type": "markdown",
      "metadata": {
        "id": "mTs9fVd56FHG"
      },
      "source": [
        "### **Recovery Rate**"
      ]
    },
    {
      "cell_type": "code",
      "metadata": {
        "id": "id4uG_Q-ikjf"
      },
      "source": [
        "df['Recovery_Rate']= df['Recovered']/ df['Total_Cases']"
      ],
      "execution_count": 30,
      "outputs": []
    },
    {
      "cell_type": "markdown",
      "metadata": {
        "id": "2la71RcAzWz9"
      },
      "source": [
        "### **Maximum Value of Recovery Rate**"
      ]
    },
    {
      "cell_type": "code",
      "metadata": {
        "id": "PN0ipe27ilBC",
        "outputId": "6ce97f29-0acb-4abb-ff0e-eeb5b77c3f0e",
        "colab": {
          "base_uri": "https://localhost:8080/",
          "height": 50
        }
      },
      "source": [
        "column1 = df['Recovery_Rate']\n",
        "max_value2 = column1.max()\n",
        "df[df[\"Recovery_Rate\"]== max_value2][\"Country/Region\"]"
      ],
      "execution_count": 31,
      "outputs": [
        {
          "output_type": "execute_result",
          "data": {
            "text/plain": [
              "4242    Australia\n",
              "Name: Country/Region, dtype: object"
            ]
          },
          "metadata": {
            "tags": []
          },
          "execution_count": 31
        }
      ]
    },
    {
      "cell_type": "markdown",
      "metadata": {
        "id": "fyQmVkDgO_wh"
      },
      "source": [
        "### **Maximum Recovered People**\n",
        "\n",
        "\n"
      ]
    },
    {
      "cell_type": "code",
      "metadata": {
        "id": "x199khpmilH9",
        "outputId": "0038177b-0a3f-4c82-8c5e-01c7cef2bd08",
        "colab": {
          "base_uri": "https://localhost:8080/",
          "height": 67
        }
      },
      "source": [
        "column2 = df['Recovered']\n",
        "max_value3 = column2.max()\n",
        "df[df[\"Recovered\"]== max_value3][\"Country/Region\"]"
      ],
      "execution_count": 32,
      "outputs": [
        {
          "output_type": "execute_result",
          "data": {
            "text/plain": [
              "38878    India\n",
              "38879    India\n",
              "Name: Country/Region, dtype: object"
            ]
          },
          "metadata": {
            "tags": []
          },
          "execution_count": 32
        }
      ]
    },
    {
      "cell_type": "markdown",
      "metadata": {
        "id": "qL9CyG_VPvMV"
      },
      "source": [
        "### **Maximum Deaths**"
      ]
    },
    {
      "cell_type": "code",
      "metadata": {
        "id": "1CcSmvIqilFB",
        "outputId": "2baa18cb-25f5-44c3-8c83-2bf2aa52168c",
        "colab": {
          "base_uri": "https://localhost:8080/",
          "height": 50
        }
      },
      "source": [
        "Column = df['Deaths']\n",
        "max_value4 = Column.max()\n",
        "df[df[\"Deaths\"]== max_value4][\"Country/Region\"]"
      ],
      "execution_count": 33,
      "outputs": [
        {
          "output_type": "execute_result",
          "data": {
            "text/plain": [
              "65879    US\n",
              "Name: Country/Region, dtype: object"
            ]
          },
          "metadata": {
            "tags": []
          },
          "execution_count": 33
        }
      ]
    },
    {
      "cell_type": "markdown",
      "metadata": {
        "id": "ytnkl0QpT-Bz"
      },
      "source": [
        "# **Forecasting**"
      ]
    },
    {
      "cell_type": "code",
      "metadata": {
        "id": "pCtGnmAg2pn3",
        "outputId": "2b050bf9-8a4b-4e96-b84f-a9901cb55b2a",
        "colab": {
          "base_uri": "https://localhost:8080/",
          "height": 402
        }
      },
      "source": [
        "covid_data_prophet = df_clean.drop([\"Country/Region\", \"Lat\", \"Long\"], axis=1)\n",
        "covid_data_prophet = covid_data_prophet.groupby(\"Date\").sum()\n",
        "covid_data_prophet.reset_index(level=0, inplace=True)\n",
        "covid_data_prophet"
      ],
      "execution_count": 34,
      "outputs": [
        {
          "output_type": "execute_result",
          "data": {
            "text/html": [
              "<div>\n",
              "<style scoped>\n",
              "    .dataframe tbody tr th:only-of-type {\n",
              "        vertical-align: middle;\n",
              "    }\n",
              "\n",
              "    .dataframe tbody tr th {\n",
              "        vertical-align: top;\n",
              "    }\n",
              "\n",
              "    .dataframe thead th {\n",
              "        text-align: right;\n",
              "    }\n",
              "</style>\n",
              "<table border=\"1\" class=\"dataframe\">\n",
              "  <thead>\n",
              "    <tr style=\"text-align: right;\">\n",
              "      <th></th>\n",
              "      <th>Date</th>\n",
              "      <th>Confirmed</th>\n",
              "      <th>Recovered</th>\n",
              "      <th>Deaths</th>\n",
              "    </tr>\n",
              "  </thead>\n",
              "  <tbody>\n",
              "    <tr>\n",
              "      <th>0</th>\n",
              "      <td>2020-01-22</td>\n",
              "      <td>555</td>\n",
              "      <td>28</td>\n",
              "      <td>17</td>\n",
              "    </tr>\n",
              "    <tr>\n",
              "      <th>1</th>\n",
              "      <td>2020-01-23</td>\n",
              "      <td>654</td>\n",
              "      <td>30</td>\n",
              "      <td>18</td>\n",
              "    </tr>\n",
              "    <tr>\n",
              "      <th>2</th>\n",
              "      <td>2020-01-24</td>\n",
              "      <td>941</td>\n",
              "      <td>36</td>\n",
              "      <td>26</td>\n",
              "    </tr>\n",
              "    <tr>\n",
              "      <th>3</th>\n",
              "      <td>2020-01-25</td>\n",
              "      <td>1434</td>\n",
              "      <td>39</td>\n",
              "      <td>42</td>\n",
              "    </tr>\n",
              "    <tr>\n",
              "      <th>4</th>\n",
              "      <td>2020-01-26</td>\n",
              "      <td>2117</td>\n",
              "      <td>52</td>\n",
              "      <td>56</td>\n",
              "    </tr>\n",
              "    <tr>\n",
              "      <th>...</th>\n",
              "      <td>...</td>\n",
              "      <td>...</td>\n",
              "      <td>...</td>\n",
              "      <td>...</td>\n",
              "    </tr>\n",
              "    <tr>\n",
              "      <th>265</th>\n",
              "      <td>2020-10-13</td>\n",
              "      <td>37941038</td>\n",
              "      <td>26305933</td>\n",
              "      <td>1076439</td>\n",
              "    </tr>\n",
              "    <tr>\n",
              "      <th>266</th>\n",
              "      <td>2020-10-14</td>\n",
              "      <td>38319079</td>\n",
              "      <td>26516041</td>\n",
              "      <td>1082430</td>\n",
              "    </tr>\n",
              "    <tr>\n",
              "      <th>267</th>\n",
              "      <td>2020-10-15</td>\n",
              "      <td>38723441</td>\n",
              "      <td>26721132</td>\n",
              "      <td>1088498</td>\n",
              "    </tr>\n",
              "    <tr>\n",
              "      <th>268</th>\n",
              "      <td>2020-10-16</td>\n",
              "      <td>39132212</td>\n",
              "      <td>26923627</td>\n",
              "      <td>1094573</td>\n",
              "    </tr>\n",
              "    <tr>\n",
              "      <th>269</th>\n",
              "      <td>2020-10-17</td>\n",
              "      <td>39411742</td>\n",
              "      <td>27049506</td>\n",
              "      <td>1099018</td>\n",
              "    </tr>\n",
              "  </tbody>\n",
              "</table>\n",
              "<p>270 rows × 4 columns</p>\n",
              "</div>"
            ],
            "text/plain": [
              "          Date  Confirmed  Recovered   Deaths\n",
              "0   2020-01-22        555         28       17\n",
              "1   2020-01-23        654         30       18\n",
              "2   2020-01-24        941         36       26\n",
              "3   2020-01-25       1434         39       42\n",
              "4   2020-01-26       2117         52       56\n",
              "..         ...        ...        ...      ...\n",
              "265 2020-10-13   37941038   26305933  1076439\n",
              "266 2020-10-14   38319079   26516041  1082430\n",
              "267 2020-10-15   38723441   26721132  1088498\n",
              "268 2020-10-16   39132212   26923627  1094573\n",
              "269 2020-10-17   39411742   27049506  1099018\n",
              "\n",
              "[270 rows x 4 columns]"
            ]
          },
          "metadata": {
            "tags": []
          },
          "execution_count": 34
        }
      ]
    },
    {
      "cell_type": "code",
      "metadata": {
        "id": "6hH1sjL22pqh",
        "outputId": "a22ea20b-8d63-46bc-9182-8345552c7aae",
        "colab": {
          "base_uri": "https://localhost:8080/",
          "height": 202
        }
      },
      "source": [
        "covid_data_prophet.info()"
      ],
      "execution_count": 35,
      "outputs": [
        {
          "output_type": "stream",
          "text": [
            "<class 'pandas.core.frame.DataFrame'>\n",
            "RangeIndex: 270 entries, 0 to 269\n",
            "Data columns (total 4 columns):\n",
            " #   Column     Non-Null Count  Dtype         \n",
            "---  ------     --------------  -----         \n",
            " 0   Date       270 non-null    datetime64[ns]\n",
            " 1   Confirmed  270 non-null    int64         \n",
            " 2   Recovered  270 non-null    int64         \n",
            " 3   Deaths     270 non-null    int64         \n",
            "dtypes: datetime64[ns](1), int64(3)\n",
            "memory usage: 8.6 KB\n"
          ],
          "name": "stdout"
        }
      ]
    },
    {
      "cell_type": "code",
      "metadata": {
        "id": "zt6n-mJe2pt5",
        "outputId": "8260cdf2-cb0d-4731-ecf8-3fb17974fb42",
        "colab": {
          "base_uri": "https://localhost:8080/",
          "height": 195
        }
      },
      "source": [
        "covid_prophet_confirmed = covid_data_prophet.drop([\"Recovered\", \"Deaths\"], axis=1)\n",
        "covid_prophet_confirmed = covid_prophet_confirmed.rename(columns={\"Date\": \"ds\", \"Confirmed\": \"y\"})\n",
        "covid_prophet_confirmed.head()"
      ],
      "execution_count": 36,
      "outputs": [
        {
          "output_type": "execute_result",
          "data": {
            "text/html": [
              "<div>\n",
              "<style scoped>\n",
              "    .dataframe tbody tr th:only-of-type {\n",
              "        vertical-align: middle;\n",
              "    }\n",
              "\n",
              "    .dataframe tbody tr th {\n",
              "        vertical-align: top;\n",
              "    }\n",
              "\n",
              "    .dataframe thead th {\n",
              "        text-align: right;\n",
              "    }\n",
              "</style>\n",
              "<table border=\"1\" class=\"dataframe\">\n",
              "  <thead>\n",
              "    <tr style=\"text-align: right;\">\n",
              "      <th></th>\n",
              "      <th>ds</th>\n",
              "      <th>y</th>\n",
              "    </tr>\n",
              "  </thead>\n",
              "  <tbody>\n",
              "    <tr>\n",
              "      <th>0</th>\n",
              "      <td>2020-01-22</td>\n",
              "      <td>555</td>\n",
              "    </tr>\n",
              "    <tr>\n",
              "      <th>1</th>\n",
              "      <td>2020-01-23</td>\n",
              "      <td>654</td>\n",
              "    </tr>\n",
              "    <tr>\n",
              "      <th>2</th>\n",
              "      <td>2020-01-24</td>\n",
              "      <td>941</td>\n",
              "    </tr>\n",
              "    <tr>\n",
              "      <th>3</th>\n",
              "      <td>2020-01-25</td>\n",
              "      <td>1434</td>\n",
              "    </tr>\n",
              "    <tr>\n",
              "      <th>4</th>\n",
              "      <td>2020-01-26</td>\n",
              "      <td>2117</td>\n",
              "    </tr>\n",
              "  </tbody>\n",
              "</table>\n",
              "</div>"
            ],
            "text/plain": [
              "          ds     y\n",
              "0 2020-01-22   555\n",
              "1 2020-01-23   654\n",
              "2 2020-01-24   941\n",
              "3 2020-01-25  1434\n",
              "4 2020-01-26  2117"
            ]
          },
          "metadata": {
            "tags": []
          },
          "execution_count": 36
        }
      ]
    },
    {
      "cell_type": "code",
      "metadata": {
        "id": "3-n6PWSq-L6F",
        "outputId": "3207ac8c-6579-4a5b-8c0d-7519ba32893a",
        "colab": {
          "base_uri": "https://localhost:8080/",
          "height": 195
        }
      },
      "source": [
        "covid_prophet_confirmed = covid_data_prophet.drop([\"Recovered\", \"Deaths\"], axis=1)\n",
        "covid_prophet_confirmed = covid_prophet_confirmed.rename(columns={\"Date\": \"ds\", \"Confirmed\": \"y\"})\n",
        "covid_prophet_confirmed.head()"
      ],
      "execution_count": 37,
      "outputs": [
        {
          "output_type": "execute_result",
          "data": {
            "text/html": [
              "<div>\n",
              "<style scoped>\n",
              "    .dataframe tbody tr th:only-of-type {\n",
              "        vertical-align: middle;\n",
              "    }\n",
              "\n",
              "    .dataframe tbody tr th {\n",
              "        vertical-align: top;\n",
              "    }\n",
              "\n",
              "    .dataframe thead th {\n",
              "        text-align: right;\n",
              "    }\n",
              "</style>\n",
              "<table border=\"1\" class=\"dataframe\">\n",
              "  <thead>\n",
              "    <tr style=\"text-align: right;\">\n",
              "      <th></th>\n",
              "      <th>ds</th>\n",
              "      <th>y</th>\n",
              "    </tr>\n",
              "  </thead>\n",
              "  <tbody>\n",
              "    <tr>\n",
              "      <th>0</th>\n",
              "      <td>2020-01-22</td>\n",
              "      <td>555</td>\n",
              "    </tr>\n",
              "    <tr>\n",
              "      <th>1</th>\n",
              "      <td>2020-01-23</td>\n",
              "      <td>654</td>\n",
              "    </tr>\n",
              "    <tr>\n",
              "      <th>2</th>\n",
              "      <td>2020-01-24</td>\n",
              "      <td>941</td>\n",
              "    </tr>\n",
              "    <tr>\n",
              "      <th>3</th>\n",
              "      <td>2020-01-25</td>\n",
              "      <td>1434</td>\n",
              "    </tr>\n",
              "    <tr>\n",
              "      <th>4</th>\n",
              "      <td>2020-01-26</td>\n",
              "      <td>2117</td>\n",
              "    </tr>\n",
              "  </tbody>\n",
              "</table>\n",
              "</div>"
            ],
            "text/plain": [
              "          ds     y\n",
              "0 2020-01-22   555\n",
              "1 2020-01-23   654\n",
              "2 2020-01-24   941\n",
              "3 2020-01-25  1434\n",
              "4 2020-01-26  2117"
            ]
          },
          "metadata": {
            "tags": []
          },
          "execution_count": 37
        }
      ]
    },
    {
      "cell_type": "code",
      "metadata": {
        "id": "xrdsT1Xw-MGp",
        "outputId": "a696eabd-7cdc-456d-89e8-04b7c285c019",
        "colab": {
          "base_uri": "https://localhost:8080/",
          "height": 67
        }
      },
      "source": [
        "from fbprophet import Prophet\n",
        "prophet_confirmed = Prophet()\n",
        "prophet_confirmed.fit(covid_prophet_confirmed)"
      ],
      "execution_count": 38,
      "outputs": [
        {
          "output_type": "stream",
          "text": [
            "INFO:fbprophet:Disabling yearly seasonality. Run prophet with yearly_seasonality=True to override this.\n",
            "INFO:fbprophet:Disabling daily seasonality. Run prophet with daily_seasonality=True to override this.\n"
          ],
          "name": "stderr"
        },
        {
          "output_type": "execute_result",
          "data": {
            "text/plain": [
              "<fbprophet.forecaster.Prophet at 0x7f5b008c9668>"
            ]
          },
          "metadata": {
            "tags": []
          },
          "execution_count": 38
        }
      ]
    },
    {
      "cell_type": "code",
      "metadata": {
        "id": "CXCGswR2-MJu",
        "outputId": "0489cd32-0e67-44d0-87c5-8b92bad368bd",
        "colab": {
          "base_uri": "https://localhost:8080/",
          "height": 195
        }
      },
      "source": [
        "covid_prophet_recovered = covid_data_prophet.drop([\"Confirmed\", \"Deaths\"], axis=1)\n",
        "covid_prophet_recovered = covid_prophet_recovered.rename(columns={\"Date\": \"ds\", \"Recovered\": \"y\"})\n",
        "covid_prophet_recovered.head()"
      ],
      "execution_count": 39,
      "outputs": [
        {
          "output_type": "execute_result",
          "data": {
            "text/html": [
              "<div>\n",
              "<style scoped>\n",
              "    .dataframe tbody tr th:only-of-type {\n",
              "        vertical-align: middle;\n",
              "    }\n",
              "\n",
              "    .dataframe tbody tr th {\n",
              "        vertical-align: top;\n",
              "    }\n",
              "\n",
              "    .dataframe thead th {\n",
              "        text-align: right;\n",
              "    }\n",
              "</style>\n",
              "<table border=\"1\" class=\"dataframe\">\n",
              "  <thead>\n",
              "    <tr style=\"text-align: right;\">\n",
              "      <th></th>\n",
              "      <th>ds</th>\n",
              "      <th>y</th>\n",
              "    </tr>\n",
              "  </thead>\n",
              "  <tbody>\n",
              "    <tr>\n",
              "      <th>0</th>\n",
              "      <td>2020-01-22</td>\n",
              "      <td>28</td>\n",
              "    </tr>\n",
              "    <tr>\n",
              "      <th>1</th>\n",
              "      <td>2020-01-23</td>\n",
              "      <td>30</td>\n",
              "    </tr>\n",
              "    <tr>\n",
              "      <th>2</th>\n",
              "      <td>2020-01-24</td>\n",
              "      <td>36</td>\n",
              "    </tr>\n",
              "    <tr>\n",
              "      <th>3</th>\n",
              "      <td>2020-01-25</td>\n",
              "      <td>39</td>\n",
              "    </tr>\n",
              "    <tr>\n",
              "      <th>4</th>\n",
              "      <td>2020-01-26</td>\n",
              "      <td>52</td>\n",
              "    </tr>\n",
              "  </tbody>\n",
              "</table>\n",
              "</div>"
            ],
            "text/plain": [
              "          ds   y\n",
              "0 2020-01-22  28\n",
              "1 2020-01-23  30\n",
              "2 2020-01-24  36\n",
              "3 2020-01-25  39\n",
              "4 2020-01-26  52"
            ]
          },
          "metadata": {
            "tags": []
          },
          "execution_count": 39
        }
      ]
    },
    {
      "cell_type": "code",
      "metadata": {
        "id": "1ATVwkJF-MMj",
        "outputId": "a37e493a-fbd9-4ae4-beae-c6b659fa9123",
        "colab": {
          "base_uri": "https://localhost:8080/",
          "height": 67
        }
      },
      "source": [
        "\n",
        "prophet_recovered = Prophet()\n",
        "prophet_recovered.fit(covid_prophet_recovered)"
      ],
      "execution_count": 40,
      "outputs": [
        {
          "output_type": "stream",
          "text": [
            "INFO:fbprophet:Disabling yearly seasonality. Run prophet with yearly_seasonality=True to override this.\n",
            "INFO:fbprophet:Disabling daily seasonality. Run prophet with daily_seasonality=True to override this.\n"
          ],
          "name": "stderr"
        },
        {
          "output_type": "execute_result",
          "data": {
            "text/plain": [
              "<fbprophet.forecaster.Prophet at 0x7f5aef79fe10>"
            ]
          },
          "metadata": {
            "tags": []
          },
          "execution_count": 40
        }
      ]
    },
    {
      "cell_type": "code",
      "metadata": {
        "id": "azHZy0a6_IMd",
        "outputId": "4bd2f4fe-f7e6-4f5c-8828-ea253982c834",
        "colab": {
          "base_uri": "https://localhost:8080/",
          "height": 195
        }
      },
      "source": [
        "covid_prophet_deaths = covid_data_prophet.drop([\"Confirmed\", \"Recovered\"], axis=1)\n",
        "covid_prophet_deaths = covid_prophet_deaths.rename(columns={\"Date\": \"ds\", \"Deaths\": \"y\"})\n",
        "covid_prophet_deaths.head()"
      ],
      "execution_count": 41,
      "outputs": [
        {
          "output_type": "execute_result",
          "data": {
            "text/html": [
              "<div>\n",
              "<style scoped>\n",
              "    .dataframe tbody tr th:only-of-type {\n",
              "        vertical-align: middle;\n",
              "    }\n",
              "\n",
              "    .dataframe tbody tr th {\n",
              "        vertical-align: top;\n",
              "    }\n",
              "\n",
              "    .dataframe thead th {\n",
              "        text-align: right;\n",
              "    }\n",
              "</style>\n",
              "<table border=\"1\" class=\"dataframe\">\n",
              "  <thead>\n",
              "    <tr style=\"text-align: right;\">\n",
              "      <th></th>\n",
              "      <th>ds</th>\n",
              "      <th>y</th>\n",
              "    </tr>\n",
              "  </thead>\n",
              "  <tbody>\n",
              "    <tr>\n",
              "      <th>0</th>\n",
              "      <td>2020-01-22</td>\n",
              "      <td>17</td>\n",
              "    </tr>\n",
              "    <tr>\n",
              "      <th>1</th>\n",
              "      <td>2020-01-23</td>\n",
              "      <td>18</td>\n",
              "    </tr>\n",
              "    <tr>\n",
              "      <th>2</th>\n",
              "      <td>2020-01-24</td>\n",
              "      <td>26</td>\n",
              "    </tr>\n",
              "    <tr>\n",
              "      <th>3</th>\n",
              "      <td>2020-01-25</td>\n",
              "      <td>42</td>\n",
              "    </tr>\n",
              "    <tr>\n",
              "      <th>4</th>\n",
              "      <td>2020-01-26</td>\n",
              "      <td>56</td>\n",
              "    </tr>\n",
              "  </tbody>\n",
              "</table>\n",
              "</div>"
            ],
            "text/plain": [
              "          ds   y\n",
              "0 2020-01-22  17\n",
              "1 2020-01-23  18\n",
              "2 2020-01-24  26\n",
              "3 2020-01-25  42\n",
              "4 2020-01-26  56"
            ]
          },
          "metadata": {
            "tags": []
          },
          "execution_count": 41
        }
      ]
    },
    {
      "cell_type": "code",
      "metadata": {
        "id": "q-aLt3G9_IPr",
        "outputId": "112ed09c-17b2-4d21-e900-478963c90a55",
        "colab": {
          "base_uri": "https://localhost:8080/",
          "height": 67
        }
      },
      "source": [
        "prophet_deaths = Prophet()\n",
        "prophet_deaths.fit(covid_prophet_deaths)"
      ],
      "execution_count": 42,
      "outputs": [
        {
          "output_type": "stream",
          "text": [
            "INFO:fbprophet:Disabling yearly seasonality. Run prophet with yearly_seasonality=True to override this.\n",
            "INFO:fbprophet:Disabling daily seasonality. Run prophet with daily_seasonality=True to override this.\n"
          ],
          "name": "stderr"
        },
        {
          "output_type": "execute_result",
          "data": {
            "text/plain": [
              "<fbprophet.forecaster.Prophet at 0x7f5aef7aafd0>"
            ]
          },
          "metadata": {
            "tags": []
          },
          "execution_count": 42
        }
      ]
    },
    {
      "cell_type": "code",
      "metadata": {
        "id": "QJRtvzQy_ISo"
      },
      "source": [
        "future_confirmed = prophet_confirmed.make_future_dataframe(periods=1095)\n",
        "future_recovered = prophet_recovered.make_future_dataframe(periods=1095)\n",
        "future_deaths = prophet_deaths.make_future_dataframe(periods=1095)\n",
        "\n",
        "forecast_confirmed = prophet_confirmed.predict(future_confirmed)\n",
        "forecast_recovered = prophet_recovered.predict(future_recovered)\n",
        "forecast_deaths = prophet_deaths.predict(future_deaths)"
      ],
      "execution_count": 43,
      "outputs": []
    },
    {
      "cell_type": "code",
      "metadata": {
        "id": "x1HbQeVd_IV7",
        "outputId": "d9889022-3418-43f5-c051-21be6bc136fc",
        "colab": {
          "base_uri": "https://localhost:8080/",
          "height": 441
        }
      },
      "source": [
        "confirmed_plot = prophet_confirmed.plot(forecast_confirmed, xlabel=\"Date\", ylabel=\"Confirmed Cases\")"
      ],
      "execution_count": 44,
      "outputs": [
        {
          "output_type": "display_data",
          "data": {
            "image/png": "[encoded data removed]",
            "text/plain": [
              "<Figure size 720x432 with 1 Axes>"
            ]
          },
          "metadata": {
            "tags": []
          }
        }
      ]
    },
    {
      "cell_type": "code",
      "metadata": {
        "id": "1h29120t-MPf",
        "outputId": "aaa5e40e-4f4f-478b-dc33-0aa6648751c3",
        "colab": {
          "base_uri": "https://localhost:8080/",
          "height": 441
        }
      },
      "source": [
        "recovered_plot = prophet_recovered.plot(forecast_recovered, xlabel=\"Date\", ylabel=\"Recovered Cases\")"
      ],
      "execution_count": 45,
      "outputs": [
        {
          "output_type": "display_data",
          "data": {
            "image/png": "[encoded data removed]",
            "text/plain": [
              "<Figure size 720x432 with 1 Axes>"
            ]
          },
          "metadata": {
            "tags": []
          }
        }
      ]
    },
    {
      "cell_type": "code",
      "metadata": {
        "id": "Rs7Izwvj-MSz",
        "outputId": "00c49a8e-bc0c-4989-b438-dcc044e4fe77",
        "colab": {
          "base_uri": "https://localhost:8080/",
          "height": 441
        }
      },
      "source": [
        "death_plot = prophet_deaths.plot(forecast_deaths, xlabel=\"Date\", ylabel=\"Deaths\")"
      ],
      "execution_count": 46,
      "outputs": [
        {
          "output_type": "display_data",
          "data": {
            "image/png": "[encoded data removed]",
            "text/plain": [
              "<Figure size 720x432 with 1 Axes>"
            ]
          },
          "metadata": {
            "tags": []
          }
        }
      ]
    },
    {
      "cell_type": "code",
      "metadata": {
        "id": "GZ6iSre6uRyQ"
      },
      "source": [
        ""
      ],
      "execution_count": 46,
      "outputs": []
    }
  ]
}